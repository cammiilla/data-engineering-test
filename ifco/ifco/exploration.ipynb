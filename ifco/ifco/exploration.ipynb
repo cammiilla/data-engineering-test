{
 "cells": [
  {
   "cell_type": "code",
   "execution_count": 2,
   "metadata": {},
   "outputs": [
    {
     "name": "stderr",
     "output_type": "stream",
     "text": [
      "24/11/07 15:32:08 WARN Utils: Your hostname, codespaces-7cf8c9 resolves to a loopback address: 127.0.0.1; using 10.0.10.61 instead (on interface eth0)\n",
      "24/11/07 15:32:08 WARN Utils: Set SPARK_LOCAL_IP if you need to bind to another address\n",
      "Setting default log level to \"WARN\".\n",
      "To adjust logging level use sc.setLogLevel(newLevel). For SparkR, use setLogLevel(newLevel).\n",
      "24/11/07 15:32:09 WARN NativeCodeLoader: Unable to load native-hadoop library for your platform... using builtin-java classes where applicable\n"
     ]
    }
   ],
   "source": [
    "\n",
    "import polars as pl\n",
    "import logging\n",
    "import json\n",
    "\n",
    "from pyspark.sql import SparkSession\n",
    "from pyspark.sql.functions import col, udf\n",
    "from pyspark.sql.types import StructType, StructField, StringType, MapType\n",
    "\n",
    "# Initialize Spark session\n",
    "spark = SparkSession.builder.appName(\"ParseDataWithLogging\").getOrCreate()\n",
    "\n",
    "# Set up logging configuration\n",
    "logging.basicConfig(level=logging.WARN)\n",
    "logger = logging.getLogger(\"ContactDataParser\")"
   ]
  },
  {
   "cell_type": "code",
   "execution_count": 19,
   "metadata": {},
   "outputs": [],
   "source": [
    "# Load CSV data\n",
    "csv_path = \"resources/orders.csv\"\n",
    "# Read a CSV file\n",
    "df = spark.read.csv(csv_path, header=True, inferSchema=True, sep=\";\")\n",
    "# Show the DataFrame\n",
    "#df.show()\n",
    "# Read a CSV file with \";\" as the separator\n",
    "df = pl.read_csv(csv_path, separator=\";\")\n",
    "# Force the data types for the columns\n",
    "df_stg = df.with_columns([\n",
    "    pl.col(\"order_id\").cast(pl.Utf8),      # Force 'column1' to be String (Utf8)\n",
    "    pl.col(\"date\").cast(pl.Utf8),     # Force 'column2' to be Integer (Int64)\n",
    "    pl.col(\"company_id\").cast(pl.Utf8),   # Force 'column3' to be Float (Float64)\n",
    "    pl.col(\"company_name\").cast(pl.Utf8),   # Force 'column3' to be Float (Float64)\n",
    "    pl.col(\"crate_type\").cast(pl.Utf8),   # Force 'column3' to be Float (Float64)\n",
    "    pl.col(\"contact_data\").cast(pl.Utf8),   # Force 'column3' to be Float (Float64)\n",
    "    pl.col(\"salesowners\").cast(pl.Utf8)  # Force 'column3' to be Float (Float64)\n",
    "])\n",
    "\n",
    "orders_stable_schema = df_stg.fill_null(\"N/A\")\n"
   ]
  },
  {
   "cell_type": "code",
   "execution_count": 55,
   "metadata": {},
   "outputs": [
    {
     "data": {
      "text/plain": [
       "NoneType"
      ]
     },
     "execution_count": 55,
     "metadata": {},
     "output_type": "execute_result"
    }
   ],
   "source": [
    "type(df_stg['contact_data'][4])"
   ]
  },
  {
   "cell_type": "code",
   "execution_count": 3,
   "metadata": {},
   "outputs": [],
   "source": [
    "# Load JSON data\n",
    "invoicing_data_df = pl.read_json(\"resources/invoicing_data.json\")"
   ]
  },
  {
   "cell_type": "code",
   "execution_count": 13,
   "metadata": {},
   "outputs": [
    {
     "name": "stdout",
     "output_type": "stream",
     "text": [
      "dict_keys(['data'])\n",
      "dict_keys(['invoices'])\n",
      "[{'id': 'e1e1e1e1-e1e1-e1e1-e1e1-e1e1e1e1e1e1', 'orderId': 'f47ac10b-58cc-4372-a567-0e02b2c3d479', 'companyId': '1e2b47e6-499e-41c6-91d3-09d12dddfbbd', 'grossValue': '324222', 'vat': '0'}, {'id': 'e2e2e2e2-e2e2-e2e2-e2e2-e2e2e2e2e2e2', 'orderId': 'f47ac10b-58cc-4372-a567-0e02b2c3d480', 'companyId': '0f05a8f1-2bdf-4be7-8c82-4c9b58f04898', 'grossValue': '193498', 'vat': '19'}, {'id': 'e3e3e3e3-e3e3-e3e3-e3e3-e3e3e3e3e3e3', 'orderId': 'f47ac10b-58cc-4372-a567-0e02b2c3d481', 'companyId': '1e2b47e6-499e-41c6-91d3-09d12dddfbbd', 'grossValue': '345498', 'vat': '21'}, {'id': 'e4e4e4e4-e4e4-e4e4-e4e4-e4e4e4e4e4e4', 'orderId': 'f47ac10b-58cc-4372-a567-0e02b2c3d482', 'companyId': '1c4b0b50-1d5d-463a-b56e-1a6fd3aeb7d6', 'grossValue': '245412', 'vat': '34'}, {'id': 'e5e5e5e5-e5e5-e5e5-e5e5-e5e5e5e5e5e5', 'orderId': 'f47ac10b-58cc-4372-a567-0e02b2c3d483', 'companyId': '34538e39-cd2e-4641-8d24-3c94146e6f16', 'grossValue': '145467', 'vat': '0'}, {'id': 'e6e6e6e6-e6e6-e6e6-e6e6-e6e6e6e6e6e6', 'orderId': 'f47ac10b-58cc-4372-a567-0e02b2c3d484', 'companyId': 'fa14c3ed-3c48-49f4-bd69-4d7f5b5f4b1b', 'grossValue': '581530', 'vat': '19'}, {'id': 'e7e7e7e7-e7e7-e7e7-e7e7-e7e7e7e7e7e7', 'orderId': 'f47ac10b-58cc-4372-a567-0e02b2c3d485', 'companyId': '2e90f2b1-d237-47a6-96e8-6d01c0d78c3e', 'grossValue': '45100', 'vat': '19'}, {'id': 'e8e8e8e8-e8e8-e8e8-e8e8-e8e8e8e8e8e8', 'orderId': 'f47ac10b-58cc-4372-a567-0e02b2c3d486', 'companyId': 'acdb6f30-764f-404e-8b8e-7e7e3e6fa1a9', 'grossValue': '565210', 'vat': '21'}, {'id': 'e9e9e9e9-e9e9-e9e9-e9e9-e9e9e9e9e9e9', 'orderId': 'f47ac10b-58cc-4372-a567-0e02b2c3d487', 'companyId': '5f0bdbdf-1d84-4c23-957c-8bb8c0ddc89d', 'grossValue': '345310', 'vat': '34'}, {'id': 'ea9ea9ea-9ea9-9ea9-9ea9-9ea9ea9ea9ea', 'orderId': 'f47ac10b-58cc-4372-a567-0e02b2c3d487', 'companyId': '5f0bdbdf-1d84-4c23-957c-8bb8c0ddc89d', 'grossValue': '345310', 'vat': '34'}, {'id': 'eb0eb0eb-0eb0-0eb0-0eb0-0eb0eb0eb0eb', 'orderId': 'f47ac10b-58cc-4372-a567-0e02b2c3d488', 'companyId': '27c59f76-5d26-4b82-a89b-59f8dfd2e9a7', 'grossValue': '341315', 'vat': '21'}, {'id': 'ec1ec1ec-1ec1-1ec1-1ec1-1ec1ec1ec1ec', 'orderId': 'f47ac10b-58cc-4372-a567-0e02b2c3d489', 'companyId': '20dfef10-8f4e-45a1-82fc-123f4ab2a4a5', 'grossValue': '291315', 'vat': '0'}]\n",
      "12\n"
     ]
    }
   ],
   "source": [
    "import json\n",
    "\n",
    "# Specify the path to the JSON file\n",
    "file_path = \"resources/invoicing_data.json\"\n",
    "\n",
    "# Open and load the JSON file\n",
    "with open(file_path, 'r') as file:\n",
    "    data = json.load(file)\n",
    "\n",
    "# Display the contents\n",
    "print(data.keys())\n",
    "print(data['data'].keys())\n",
    "print(data['data']['invoices'])\n",
    "print(len(data['data']['invoices']))\n",
    "\n",
    "json_content = data['data']['invoices']"
   ]
  },
  {
   "cell_type": "code",
   "execution_count": 14,
   "metadata": {},
   "outputs": [
    {
     "name": "stdout",
     "output_type": "stream",
     "text": [
      "All dictionaries have the same keys.\n"
     ]
    }
   ],
   "source": [
    "# Extract keys from the first dictionary as a reference\n",
    "reference_keys = set(json_content[0].keys())\n",
    "\n",
    "# Check each dictionary's keys against the reference keys\n",
    "all_have_same_keys = all(set(d.keys()) == reference_keys for d in json_content)\n",
    "\n",
    "if all_have_same_keys:\n",
    "    print(\"All dictionaries have the same keys.\")\n",
    "else:\n",
    "    print(\"Not all dictionaries have the same keys.\")"
   ]
  },
  {
   "cell_type": "code",
   "execution_count": null,
   "metadata": {},
   "outputs": [],
   "source": [
    "df = pl.DataFrame(json_content)\n",
    "df_unique = df.unique()\n",
    "print(len(df))\n",
    "print(len(df_unique))\n"
   ]
  },
  {
   "cell_type": "code",
   "execution_count": 41,
   "metadata": {},
   "outputs": [],
   "source": [
    "df_unique = df.unique()\n"
   ]
  },
  {
   "cell_type": "code",
   "execution_count": 28,
   "metadata": {},
   "outputs": [],
   "source": [
    "duplicate_count = df.select(pl.all().is_duplicated().sum())"
   ]
  },
  {
   "cell_type": "code",
   "execution_count": 29,
   "metadata": {},
   "outputs": [
    {
     "data": {
      "text/html": [
       "<div><style>\n",
       ".dataframe > thead > tr,\n",
       ".dataframe > tbody > tr {\n",
       "  text-align: right;\n",
       "  white-space: pre-wrap;\n",
       "}\n",
       "</style>\n",
       "<small>shape: (1, 5)</small><table border=\"1\" class=\"dataframe\"><thead><tr><th>id</th><th>orderId</th><th>companyId</th><th>grossValue</th><th>vat</th></tr><tr><td>u32</td><td>u32</td><td>u32</td><td>u32</td><td>u32</td></tr></thead><tbody><tr><td>0</td><td>2</td><td>4</td><td>2</td><td>12</td></tr></tbody></table></div>"
      ],
      "text/plain": [
       "shape: (1, 5)\n",
       "┌─────┬─────────┬───────────┬────────────┬─────┐\n",
       "│ id  ┆ orderId ┆ companyId ┆ grossValue ┆ vat │\n",
       "│ --- ┆ ---     ┆ ---       ┆ ---        ┆ --- │\n",
       "│ u32 ┆ u32     ┆ u32       ┆ u32        ┆ u32 │\n",
       "╞═════╪═════════╪═══════════╪════════════╪═════╡\n",
       "│ 0   ┆ 2       ┆ 4         ┆ 2          ┆ 12  │\n",
       "└─────┴─────────┴───────────┴────────────┴─────┘"
      ]
     },
     "execution_count": 29,
     "metadata": {},
     "output_type": "execute_result"
    }
   ],
   "source": [
    "duplicate_count"
   ]
  },
  {
   "cell_type": "code",
   "execution_count": null,
   "metadata": {},
   "outputs": [],
   "source": [
    "duplicates_by_name_age = df.filter(pl.struct([\"companyId\"]).is_duplicated())\n"
   ]
  },
  {
   "cell_type": "code",
   "execution_count": 35,
   "metadata": {},
   "outputs": [],
   "source": [
    "duplicates_by_name_age = df.filter(pl.struct([\"orderId\",\"companyId\",\"grossValue\",\"vat\"]).is_duplicated())\n"
   ]
  },
  {
   "cell_type": "code",
   "execution_count": 36,
   "metadata": {},
   "outputs": [
    {
     "data": {
      "text/html": [
       "<div><style>\n",
       ".dataframe > thead > tr,\n",
       ".dataframe > tbody > tr {\n",
       "  text-align: right;\n",
       "  white-space: pre-wrap;\n",
       "}\n",
       "</style>\n",
       "<small>shape: (2, 5)</small><table border=\"1\" class=\"dataframe\"><thead><tr><th>id</th><th>orderId</th><th>companyId</th><th>grossValue</th><th>vat</th></tr><tr><td>str</td><td>str</td><td>str</td><td>str</td><td>str</td></tr></thead><tbody><tr><td>&quot;e9e9e9e9-e9e9-e9e9-e9e9-e9e9e9…</td><td>&quot;f47ac10b-58cc-4372-a567-0e02b2…</td><td>&quot;5f0bdbdf-1d84-4c23-957c-8bb8c0…</td><td>&quot;345310&quot;</td><td>&quot;34&quot;</td></tr><tr><td>&quot;ea9ea9ea-9ea9-9ea9-9ea9-9ea9ea…</td><td>&quot;f47ac10b-58cc-4372-a567-0e02b2…</td><td>&quot;5f0bdbdf-1d84-4c23-957c-8bb8c0…</td><td>&quot;345310&quot;</td><td>&quot;34&quot;</td></tr></tbody></table></div>"
      ],
      "text/plain": [
       "shape: (2, 5)\n",
       "┌──────────────────────────┬──────────────────────────┬─────────────────────────┬────────────┬─────┐\n",
       "│ id                       ┆ orderId                  ┆ companyId               ┆ grossValue ┆ vat │\n",
       "│ ---                      ┆ ---                      ┆ ---                     ┆ ---        ┆ --- │\n",
       "│ str                      ┆ str                      ┆ str                     ┆ str        ┆ str │\n",
       "╞══════════════════════════╪══════════════════════════╪═════════════════════════╪════════════╪═════╡\n",
       "│ e9e9e9e9-e9e9-e9e9-e9e9- ┆ f47ac10b-58cc-4372-a567- ┆ 5f0bdbdf-1d84-4c23-957c ┆ 345310     ┆ 34  │\n",
       "│ e9e9e9…                  ┆ 0e02b2…                  ┆ -8bb8c0…                ┆            ┆     │\n",
       "│ ea9ea9ea-9ea9-9ea9-9ea9- ┆ f47ac10b-58cc-4372-a567- ┆ 5f0bdbdf-1d84-4c23-957c ┆ 345310     ┆ 34  │\n",
       "│ 9ea9ea…                  ┆ 0e02b2…                  ┆ -8bb8c0…                ┆            ┆     │\n",
       "└──────────────────────────┴──────────────────────────┴─────────────────────────┴────────────┴─────┘"
      ]
     },
     "execution_count": 36,
     "metadata": {},
     "output_type": "execute_result"
    }
   ],
   "source": [
    "duplicates_by_name_age"
   ]
  },
  {
   "cell_type": "code",
   "execution_count": 18,
   "metadata": {},
   "outputs": [
    {
     "ename": "ComputeError",
     "evalue": "The predicate passed to 'LazyFrame.filter' expanded to multiple expressions: \n\n\tcol(\"id\").is_duplicated(),\n\tcol(\"orderId\").is_duplicated(),\n\tcol(\"companyId\").is_duplicated(),\n\tcol(\"grossValue\").is_duplicated(),\n\tcol(\"vat\").is_duplicated(),\nThis is ambiguous. Try to combine the predicates with the 'all' or `any' expression.\n\nResolved plan until failure:\n\n\t---> FAILED HERE RESOLVING 'filter' <---\nDF [\"id\", \"orderId\", \"companyId\", \"grossValue\"]; PROJECT */5 COLUMNS; SELECTION: None",
     "output_type": "error",
     "traceback": [
      "\u001b[0;31m---------------------------------------------------------------------------\u001b[0m",
      "\u001b[0;31mComputeError\u001b[0m                              Traceback (most recent call last)",
      "Cell \u001b[0;32mIn[18], line 2\u001b[0m\n\u001b[1;32m      1\u001b[0m \u001b[38;5;66;03m# Filter to show only duplicated rows\u001b[39;00m\n\u001b[0;32m----> 2\u001b[0m duplicates \u001b[38;5;241m=\u001b[39m \u001b[43mdf\u001b[49m\u001b[38;5;241;43m.\u001b[39;49m\u001b[43mfilter\u001b[49m\u001b[43m(\u001b[49m\u001b[43mpl\u001b[49m\u001b[38;5;241;43m.\u001b[39;49m\u001b[43mall\u001b[49m\u001b[43m(\u001b[49m\u001b[43m)\u001b[49m\u001b[38;5;241;43m.\u001b[39;49m\u001b[43mis_duplicated\u001b[49m\u001b[43m(\u001b[49m\u001b[43m)\u001b[49m\u001b[43m)\u001b[49m\n",
      "File \u001b[0;32m~/.cache/pypoetry/virtualenvs/ifco-Gipka2ZM-py3.12/lib/python3.12/site-packages/polars/dataframe/frame.py:4768\u001b[0m, in \u001b[0;36mDataFrame.filter\u001b[0;34m(self, *predicates, **constraints)\u001b[0m\n\u001b[1;32m   4614\u001b[0m \u001b[38;5;28;01mdef\u001b[39;00m \u001b[38;5;21mfilter\u001b[39m(\n\u001b[1;32m   4615\u001b[0m     \u001b[38;5;28mself\u001b[39m,\n\u001b[1;32m   4616\u001b[0m     \u001b[38;5;241m*\u001b[39mpredicates: (\n\u001b[0;32m   (...)\u001b[0m\n\u001b[1;32m   4623\u001b[0m     \u001b[38;5;241m*\u001b[39m\u001b[38;5;241m*\u001b[39mconstraints: Any,\n\u001b[1;32m   4624\u001b[0m ) \u001b[38;5;241m-\u001b[39m\u001b[38;5;241m>\u001b[39m DataFrame:\n\u001b[1;32m   4625\u001b[0m \u001b[38;5;250m    \u001b[39m\u001b[38;5;124;03m\"\"\"\u001b[39;00m\n\u001b[1;32m   4626\u001b[0m \u001b[38;5;124;03m    Filter the rows in the DataFrame based on one or more predicate expressions.\u001b[39;00m\n\u001b[1;32m   4627\u001b[0m \n\u001b[0;32m   (...)\u001b[0m\n\u001b[1;32m   4766\u001b[0m \n\u001b[1;32m   4767\u001b[0m \u001b[38;5;124;03m    \"\"\"\u001b[39;00m\n\u001b[0;32m-> 4768\u001b[0m     \u001b[38;5;28;01mreturn\u001b[39;00m \u001b[38;5;28;43mself\u001b[39;49m\u001b[38;5;241;43m.\u001b[39;49m\u001b[43mlazy\u001b[49m\u001b[43m(\u001b[49m\u001b[43m)\u001b[49m\u001b[38;5;241;43m.\u001b[39;49m\u001b[43mfilter\u001b[49m\u001b[43m(\u001b[49m\u001b[38;5;241;43m*\u001b[39;49m\u001b[43mpredicates\u001b[49m\u001b[43m,\u001b[49m\u001b[43m \u001b[49m\u001b[38;5;241;43m*\u001b[39;49m\u001b[38;5;241;43m*\u001b[39;49m\u001b[43mconstraints\u001b[49m\u001b[43m)\u001b[49m\u001b[38;5;241;43m.\u001b[39;49m\u001b[43mcollect\u001b[49m\u001b[43m(\u001b[49m\u001b[43m_eager\u001b[49m\u001b[38;5;241;43m=\u001b[39;49m\u001b[38;5;28;43;01mTrue\u001b[39;49;00m\u001b[43m)\u001b[49m\n",
      "File \u001b[0;32m~/.cache/pypoetry/virtualenvs/ifco-Gipka2ZM-py3.12/lib/python3.12/site-packages/polars/lazyframe/frame.py:2055\u001b[0m, in \u001b[0;36mLazyFrame.collect\u001b[0;34m(self, type_coercion, predicate_pushdown, projection_pushdown, simplify_expression, slice_pushdown, comm_subplan_elim, comm_subexpr_elim, cluster_with_columns, collapse_joins, no_optimization, streaming, engine, background, _eager, **_kwargs)\u001b[0m\n\u001b[1;32m   2053\u001b[0m \u001b[38;5;66;03m# Only for testing purposes\u001b[39;00m\n\u001b[1;32m   2054\u001b[0m callback \u001b[38;5;241m=\u001b[39m _kwargs\u001b[38;5;241m.\u001b[39mget(\u001b[38;5;124m\"\u001b[39m\u001b[38;5;124mpost_opt_callback\u001b[39m\u001b[38;5;124m\"\u001b[39m, callback)\n\u001b[0;32m-> 2055\u001b[0m \u001b[38;5;28;01mreturn\u001b[39;00m wrap_df(\u001b[43mldf\u001b[49m\u001b[38;5;241;43m.\u001b[39;49m\u001b[43mcollect\u001b[49m\u001b[43m(\u001b[49m\u001b[43mcallback\u001b[49m\u001b[43m)\u001b[49m)\n",
      "\u001b[0;31mComputeError\u001b[0m: The predicate passed to 'LazyFrame.filter' expanded to multiple expressions: \n\n\tcol(\"id\").is_duplicated(),\n\tcol(\"orderId\").is_duplicated(),\n\tcol(\"companyId\").is_duplicated(),\n\tcol(\"grossValue\").is_duplicated(),\n\tcol(\"vat\").is_duplicated(),\nThis is ambiguous. Try to combine the predicates with the 'all' or `any' expression.\n\nResolved plan until failure:\n\n\t---> FAILED HERE RESOLVING 'filter' <---\nDF [\"id\", \"orderId\", \"companyId\", \"grossValue\"]; PROJECT */5 COLUMNS; SELECTION: None"
     ]
    }
   ],
   "source": [
    "# Filter to show only duplicated rows\n",
    "duplicates = df.filter(pl.all().is_duplicated())"
   ]
  },
  {
   "cell_type": "code",
   "execution_count": 4,
   "metadata": {},
   "outputs": [
    {
     "name": "stderr",
     "output_type": "stream",
     "text": [
      "[Stage 2:>                                                          (0 + 1) / 1]\r"
     ]
    },
    {
     "name": "stdout",
     "output_type": "stream",
     "text": [
      "+--------------------+--------+--------------------+--------------------+----------+--------------------+--------------------+--------------------+\n",
      "|            order_id|    date|          company_id|        company_name|crate_type|        contact_data|         salesowners|      parsed_contact|\n",
      "+--------------------+--------+--------------------+--------------------+----------+--------------------+--------------------+--------------------+\n",
      "|f47ac10b-58cc-437...|29.01.22|1e2b47e6-499e-41c...|     Fresh Fruits Co|   Plastic|\"[{ \"\"contact_nam...|Leonard Cohen, Lu...|{contact_surname ...|\n",
      "|f47ac10b-58cc-437...|21.02.22|0f05a8f1-2bdf-4be...|         Veggies Inc|      Wood|\"[{ \"\"contact_nam...|Luke Skywalker, D...|{contact_surname ...|\n",
      "|f47ac10b-58cc-437...|03.04.22|1e2b47e6-499e-41c...|    Fresh Fruits c.o|     Metal|\"[{ \"\"contact_nam...|      Luke Skywalker|{contact_surname ...|\n",
      "|f47ac10b-58cc-437...|14.07.21|1c4b0b50-1d5d-463...|    Seafood Supplier|   Plastic|                NULL|David Goliat, Leo...|{contact_surname ...|\n",
      "|f47ac10b-58cc-437...|23.10.22|34538e39-cd2e-464...|    Meat Packers Ltd|   Plastic|                NULL|Chris Pratt, Davi...|{contact_surname ...|\n",
      "|f47ac10b-58cc-437...|15.05.22|fa14c3ed-3c48-49f...|        Green Veg Co|      Wood|\"[{ \"\"contact_nam...|Leonard Cohen, Da...|{contact_surname ...|\n",
      "|f47ac10b-58cc-437...|31.12.22|2e90f2b1-d237-47a...|Seafood Supplier ...|     Metal|                NULL|Markus Söder, Amm...|{contact_surname ...|\n",
      "|f47ac10b-58cc-437...|01.04.22|acdb6f30-764f-404...|       Organic Farms|     Metal|\"[{ \"\"contact_nam...|David Henderson, ...|{contact_surname ...|\n",
      "|f47ac10b-58cc-437...|04.09.22|5f0bdbdf-1d84-4c2...| Tropical Fruits Ltd|   Plastic|\"{ \"\"contact_name...|Yuri Gagarin, Dav...|{contact_surname ...|\n",
      "|f47ac10b-58cc-437...|07.11.22|27c59f76-5d26-4b8...|      Healthy Snacks|   Plastic|\"[{ \"\"contact_nam...|Ammy Winehouse, M...|{contact_surname ...|\n",
      "|f47ac10b-58cc-437...|09.07.22|20dfef10-8f4e-45a...| healthy snacks c.o.|      Wood|\"[{ \"\"contact_nam...|Marianov Merschik...|{contact_surname ...|\n",
      "|f47ac10b-58cc-437...|18.06.22|4a98d9ec-65f6-438...|   Fresh Berries Inc|   Plastic|\"[{ \"\"contact_nam...|Leonard Cohen, Am...|{contact_surname ...|\n",
      "|f47ac10b-58cc-437...|12.08.22|f3b70f8d-bb74-4d9...|    Meat Express Ltd|     Metal|\"[{ \"\"contact_nam...|Chris Pratt, Mari...|{contact_surname ...|\n",
      "|f47ac10b-58cc-437...|22.09.22|83df789a-b30c-4a1...|   Tropical Fresh Co|      Wood|\"[{ \"\"contact_nam...|Leonard Cohen, Da...|{contact_surname ...|\n",
      "|f47ac10b-58cc-437...|27.10.22|9b31b19f-69a2-4ae...|   Veggies Unlimited|   Plastic|                NULL|Leon Leonov, Ammy...|{contact_surname ...|\n",
      "|f47ac10b-58cc-437...|15.11.22|d4e31b02-ea50-46b...|   Global Seafood Co|     Metal|\"[{ \"\"contact_nam...|Yuri Gagarin, Leo...|{contact_surname ...|\n",
      "|f47ac10b-58cc-437...|28.12.22|5c17d142-4b21-429...|     Fresh Farms Ltd|      Wood|\"[{ \"\"contact_nam...|David Goliat, Chr...|{contact_surname ...|\n",
      "|f47ac10b-58cc-437...|02.01.23|2b42dcb7-bc74-4e5...|   Healthy Greens Co|   Plastic|\"[{ \"\"contact_nam...|Leonard Cohen, Am...|{contact_surname ...|\n",
      "|f47ac10b-58cc-437...|19.02.23|6d3f48b2-4e3c-49d...| Fruits & Veggies Co|      Wood|\"[{ \"\"contact_nam...|Chris Pratt, Yuri...|{contact_surname ...|\n",
      "|f47ac10b-58cc-437...|11.03.23|1f06b236-f6b5-4f4...|     Green Farms Inc|     Metal|\"[{ \"\"contact_nam...|Ammy Winehouse, L...|{contact_surname ...|\n",
      "+--------------------+--------+--------------------+--------------------+----------+--------------------+--------------------+--------------------+\n",
      "only showing top 20 rows\n",
      "\n"
     ]
    },
    {
     "name": "stderr",
     "output_type": "stream",
     "text": [
      "Error parsing entry: \"[{ \"\"contact_name\"\":\"\"Curtis\"\", \"\"contact_surname\"\":\"\"Jackson\"\", \"\"city\"\":\"\"Chicago\"\", \"\"cp\"\": \"\"12345\"\"}]\" - Extra data: line 1 column 6 (char 5)\n",
      "Error parsing entry: \"[{ \"\"contact_name\"\":\"\"Maria\"\", \"\"contact_surname\"\":\"\"Theresa\"\", \"\"city\"\":\"\"Calcutta\"\"}]\" - Extra data: line 1 column 6 (char 5)\n",
      "Error parsing entry: \"[{ \"\"contact_name\"\":\"\"Para\"\", \"\"contact_surname\"\":\"\"Cetamol\"\", \"\"city\"\":\"\"Frankfurt am Oder\"\", \"\"cp\"\": 3934}]\" - Extra data: line 1 column 6 (char 5)\n",
      "Error parsing entry: \"[{ \"\"contact_name\"\":\"\"John\"\", \"\"contact_surname\"\":\"\"Krasinski\"\", \"\"city\"\":\"\"New York\"\", \"\"cp\"\": \"\"1203\"\"}]\" - Extra data: line 1 column 6 (char 5)\n",
      "Error parsing entry: \"[{ \"\"contact_name\"\":\"\"Jennifer\"\", \"\"contact_surname\"\":\"\"Lopez\"\", \"\"city\"\":\"\"Esplugues de Llobregat\"\"}]\" - Extra data: line 1 column 6 (char 5)\n",
      "Error parsing entry: \"{ \"\"contact_name\"\":\"\"Liav\"\", \"\"contact_surname\"\": \"\"Ichenbaum\"\", \"\"city\"\":\"\"Tel Aviv\"\"}\" - Extra data: line 1 column 5 (char 4)\n",
      "Error parsing entry: \"[{ \"\"contact_name\"\":\"\"Curtis\"\", \"\"contact_surname\"\":\"\"Jackson\"\", \"\"city\"\":\"\"Chicago\"\", \"\"cp\"\": \"\"12345\"\"}]\" - Extra data: line 1 column 6 (char 5)\n",
      "Error parsing entry: \"[{ \"\"contact_name\"\":\"\"Anthony\"\", \"\"contact_surname\"\":\"\"Pap\"\", \"\"city\"\":\"\"Barcelona\"\", \"\"cp\"\": 8023}]\" - Extra data: line 1 column 6 (char 5)\n",
      "Error parsing entry: \"[{ \"\"contact_name\"\":\"\"Natalia\"\", \"\"contact_surname\"\":\"\"Romanov\"\", \"\"city\"\":\"\"Moscow\"\", \"\"cp\"\": \"\"65432\"\"}]\" - Extra data: line 1 column 6 (char 5)\n",
      "Error parsing entry: \"[{ \"\"contact_name\"\":\"\"Bruce\"\", \"\"contact_surname\"\":\"\"Wayne\"\", \"\"city\"\":\"\"Gotham\"\"}]\" - Extra data: line 1 column 6 (char 5)\n",
      "Error parsing entry: \"[{ \"\"contact_name\"\":\"\"Clark\"\", \"\"contact_surname\"\":\"\"Kent\"\", \"\"city\"\":\"\"Metropolis\"\", \"\"cp\"\": \"\"10001\"\"}]\" - Extra data: line 1 column 6 (char 5)\n",
      "Error parsing entry: \"[{ \"\"contact_name\"\":\"\"Tony\"\", \"\"contact_surname\"\":\"\"Stark\"\", \"\"city\"\":\"\"New York\"\"}]\" - Extra data: line 1 column 6 (char 5)\n",
      "Error parsing entry: \"[{ \"\"contact_name\"\":\"\"Diana\"\", \"\"contact_surname\"\":\"\"Prince\"\", \"\"city\"\":\"\"Themyscira\"\", \"\"cp\"\": \"\"45789\"\"}]\" - Extra data: line 1 column 6 (char 5)\n",
      "Error parsing entry: \"[{ \"\"contact_name\"\":\"\"Peter\"\", \"\"contact_surname\"\":\"\"Parker\"\", \"\"city\"\":\"\"Queens\"\", \"\"cp\"\": \"\"11432\"\"}]\" - Extra data: line 1 column 6 (char 5)\n",
      "Error parsing entry: \"[{ \"\"contact_name\"\":\"\"Steve\"\", \"\"contact_surname\"\":\"\"Rogers\"\", \"\"city\"\":\"\"Brooklyn\"\", \"\"cp\"\": \"\"11201\"\"}]\" - Extra data: line 1 column 6 (char 5)\n",
      "Error parsing entry: \"[{ \"\"contact_name\"\":\"\"Natasha\"\", \"\"contact_surname\"\":\"\"Romanov\"\", \"\"city\"\":\"\"Moscow\"\", \"\"cp\"\": \"\"65432\"\"}]\" - Extra data: line 1 column 6 (char 5)\n",
      "Error parsing entry: \"[{ \"\"contact_name\"\":\"\"Bruce\"\", \"\"contact_surname\"\":\"\"Banner\"\", \"\"city\"\":\"\"San Francisco\"\", \"\"cp\"\": \"\"94102\"\"}]\" - Extra data: line 1 column 6 (char 5)\n",
      "                                                                                \r"
     ]
    }
   ],
   "source": [
    "df_parsed.show()"
   ]
  },
  {
   "cell_type": "code",
   "execution_count": 7,
   "metadata": {},
   "outputs": [
    {
     "ename": "AttributeError",
     "evalue": "'DataFrame' object has no attribute 'withColumn'",
     "output_type": "error",
     "traceback": [
      "\u001b[0;31m---------------------------------------------------------------------------\u001b[0m",
      "\u001b[0;31mAttributeError\u001b[0m                            Traceback (most recent call last)",
      "Cell \u001b[0;32mIn[7], line 44\u001b[0m\n\u001b[1;32m     41\u001b[0m parse_udf \u001b[38;5;241m=\u001b[39m udf(parse_contact_data, MapType(StringType(), StringType()))\n\u001b[1;32m     43\u001b[0m \u001b[38;5;66;03m# Apply the UDF to the 'contact_data' column\u001b[39;00m\n\u001b[0;32m---> 44\u001b[0m df_parsed \u001b[38;5;241m=\u001b[39m \u001b[43mdf\u001b[49m\u001b[38;5;241;43m.\u001b[39;49m\u001b[43mwithColumn\u001b[49m(\u001b[38;5;124m\"\u001b[39m\u001b[38;5;124mparsed_contact\u001b[39m\u001b[38;5;124m\"\u001b[39m, parse_udf(col(\u001b[38;5;124m\"\u001b[39m\u001b[38;5;124mcontact_data\u001b[39m\u001b[38;5;124m\"\u001b[39m)))\n\u001b[1;32m     46\u001b[0m \u001b[38;5;66;03m# Expand the dictionary into separate columns\u001b[39;00m\n\u001b[1;32m     47\u001b[0m df_result \u001b[38;5;241m=\u001b[39m df_parsed\u001b[38;5;241m.\u001b[39mselect(\n\u001b[1;32m     48\u001b[0m     col(\u001b[38;5;124m\"\u001b[39m\u001b[38;5;124mparsed_contact\u001b[39m\u001b[38;5;124m\"\u001b[39m)[\u001b[38;5;124m\"\u001b[39m\u001b[38;5;124mcontact_name\u001b[39m\u001b[38;5;124m\"\u001b[39m]\u001b[38;5;241m.\u001b[39malias(\u001b[38;5;124m\"\u001b[39m\u001b[38;5;124mcontact_name\u001b[39m\u001b[38;5;124m\"\u001b[39m),\n\u001b[1;32m     49\u001b[0m     col(\u001b[38;5;124m\"\u001b[39m\u001b[38;5;124mparsed_contact\u001b[39m\u001b[38;5;124m\"\u001b[39m)[\u001b[38;5;124m\"\u001b[39m\u001b[38;5;124mcontact_surname\u001b[39m\u001b[38;5;124m\"\u001b[39m]\u001b[38;5;241m.\u001b[39malias(\u001b[38;5;124m\"\u001b[39m\u001b[38;5;124mcontact_surname\u001b[39m\u001b[38;5;124m\"\u001b[39m),\n\u001b[1;32m     50\u001b[0m     col(\u001b[38;5;124m\"\u001b[39m\u001b[38;5;124mparsed_contact\u001b[39m\u001b[38;5;124m\"\u001b[39m)[\u001b[38;5;124m\"\u001b[39m\u001b[38;5;124mcity\u001b[39m\u001b[38;5;124m\"\u001b[39m]\u001b[38;5;241m.\u001b[39malias(\u001b[38;5;124m\"\u001b[39m\u001b[38;5;124mcity\u001b[39m\u001b[38;5;124m\"\u001b[39m),\n\u001b[1;32m     51\u001b[0m     col(\u001b[38;5;124m\"\u001b[39m\u001b[38;5;124mparsed_contact\u001b[39m\u001b[38;5;124m\"\u001b[39m)[\u001b[38;5;124m\"\u001b[39m\u001b[38;5;124mcp\u001b[39m\u001b[38;5;124m\"\u001b[39m]\u001b[38;5;241m.\u001b[39malias(\u001b[38;5;124m\"\u001b[39m\u001b[38;5;124mcp\u001b[39m\u001b[38;5;124m\"\u001b[39m)\n\u001b[1;32m     52\u001b[0m )\n",
      "\u001b[0;31mAttributeError\u001b[0m: 'DataFrame' object has no attribute 'withColumn'"
     ]
    }
   ],
   "source": [
    "# Define the parsing function with error handling and logging\n",
    "def parse_contact_data(entry):\n",
    "    try:\n",
    "        # Log each entry being processed\n",
    "        logger.info(f\"Processing entry: {entry}\")\n",
    "\n",
    "        # Handle None or zero cases directly\n",
    "        if entry in [\"N/A\", \"0\", \"\"]:\n",
    "            logger.info(f\"Entry is None, 0, or empty. Returning default dictionary for entry: {entry}\")\n",
    "            return {\"contact_name\": None, \"contact_surname\": None, \"city\": None, \"cp\": None}\n",
    "\n",
    "        # Clean the entry and parse as JSON\n",
    "        cleaned_entry = entry.replace(\"'\", '\"')  # Replace single quotes with double for JSON compatibility\n",
    "        parsed_entry = json.loads(cleaned_entry)  # Parse the JSON string\n",
    "        \n",
    "        # Check if parsed entry is a list, and extract the first dictionary if so\n",
    "        if isinstance(parsed_entry, list) and parsed_entry:\n",
    "            parsed_entry = parsed_entry[0]  # Extract the first dictionary in the list\n",
    "\n",
    "        # Confirm parsed_entry is a dictionary\n",
    "        if not isinstance(parsed_entry, dict):\n",
    "            logger.warning(f\"Parsed entry is not a dictionary. Returning default for entry: {entry}\")\n",
    "            return {\"contact_name\": None, \"contact_surname\": None, \"city\": None, \"cp\": None}\n",
    "\n",
    "        # Log successfully parsed dictionary\n",
    "        logger.info(f\"Successfully parsed dictionary: {parsed_entry}\")\n",
    "\n",
    "        # Return parsed data with missing keys handled as None\n",
    "        return {\n",
    "            \"contact_name\": parsed_entry.get(\"contact_name\"),\n",
    "            \"contact_surname\": parsed_entry.get(\"contact_surname\"),\n",
    "            \"city\": parsed_entry.get(\"city\"),\n",
    "            \"cp\": parsed_entry.get(\"cp\")\n",
    "        }\n",
    "    except Exception as e:\n",
    "        logger.error(f\"Error parsing entry: {entry}. Error: {e}\")\n",
    "        # Return a dictionary with None values on parsing error\n",
    "        return {\"contact_name\": None, \"contact_surname\": None, \"city\": None, \"cp\": None}\n",
    "\n",
    "# Register the UDF with a MapType schema to return a dictionary\n",
    "parse_udf = udf(parse_contact_data, MapType(StringType(), StringType()))\n",
    "\n",
    "# Apply the UDF to the 'contact_data' column\n",
    "df_parsed = df.withColumn(\"parsed_contact\", parse_udf(col(\"contact_data\")))\n",
    "\n",
    "# Expand the dictionary into separate columns\n",
    "df_result = df_parsed.select(\n",
    "    col(\"parsed_contact\")[\"contact_name\"].alias(\"contact_name\"),\n",
    "    col(\"parsed_contact\")[\"contact_surname\"].alias(\"contact_surname\"),\n",
    "    col(\"parsed_contact\")[\"city\"].alias(\"city\"),\n",
    "    col(\"parsed_contact\")[\"cp\"].alias(\"cp\")\n",
    ")\n",
    "\n",
    "# Show the result\n",
    "df_result.show(truncate=False)"
   ]
  },
  {
   "cell_type": "code",
   "execution_count": 7,
   "metadata": {},
   "outputs": [],
   "source": [
    "import polars as pl\n",
    "import pandas as pd\n",
    "from pyspark.sql import SparkSession\n",
    "import json\n",
    "\n",
    "# Convert PySpark DataFrame to Pandas DataFrame\n",
    "df_pandas = df.toPandas()"
   ]
  },
  {
   "cell_type": "code",
   "execution_count": 4,
   "metadata": {},
   "outputs": [],
   "source": [
    "# Define the parsing function with error handling and logging\n",
    "def parse_contact_data(entry):\n",
    "    try:\n",
    "        # Log each entry being processed\n",
    "        logger.info(f\"Processing entry: {entry}\")\n",
    "\n",
    "        # Handle None or zero cases directly\n",
    "        if entry in [\"N/A\", \"0\", \"\"]:\n",
    "            logger.info(f\"Entry is None, 0, or empty. Returning default dictionary for entry: {entry}\")\n",
    "            return {\"contact_data\": entry, \"contact_name\": None, \"contact_surname\": None, \"city\": None, \"cp\": None}\n",
    "\n",
    "        # Clean the entry and parse as JSON\n",
    "        cleaned_entry = entry.replace(\"'\", '\"')  # Replace single quotes with double for JSON compatibility\n",
    "        parsed_entry = json.loads(cleaned_entry)  # Parse the JSON string\n",
    "        \n",
    "        # Check if parsed entry is a list, and extract the first dictionary if so\n",
    "        if isinstance(parsed_entry, list) and parsed_entry:\n",
    "            parsed_entry = parsed_entry[0]  # Extract the first dictionary in the list\n",
    "\n",
    "        # Confirm parsed_entry is a dictionary\n",
    "        if not isinstance(parsed_entry, dict):\n",
    "            logger.warning(f\"Parsed entry is not a dictionary. Returning default for entry: {entry}\")\n",
    "            return {\"contact_data\": entry, \"contact_name\": None, \"contact_surname\": None, \"city\": None, \"cp\": None}\n",
    "        \n",
    "        # Confirm parsed_entry is a dictionary\n",
    "        if parsed_entry is None:\n",
    "            logger.warning(f\"Parsed entry is nond. Returning default for entry: {entry}\")\n",
    "            return {\"contact_data\": entry,\"contact_name\": None, \"contact_surname\": None, \"city\": None, \"cp\": None}\n",
    "\n",
    "        # Log successfully parsed dictionary\n",
    "        logger.info(f\"Successfully parsed dictionary: {parsed_entry}\")\n",
    "\n",
    "        # Return parsed data with missing keys handled as None\n",
    "        return {\n",
    "            \"contact_data\": entry,\n",
    "            \"contact_name\": parsed_entry.get(\"contact_name\"),\n",
    "            \"contact_surname\": parsed_entry.get(\"contact_surname\"),\n",
    "            \"city\": parsed_entry.get(\"city\"),\n",
    "            \"cp\": parsed_entry.get(\"cp\")\n",
    "        }\n",
    "    except Exception as e:\n",
    "        logger.error(f\"Error parsing entry: {entry}. Error: {e}\")\n",
    "        # Return a dictionary with None values on parsing error\n",
    "        return {\"contact_data\": entry,\"contact_name\": None, \"contact_surname\": None, \"city\": None, \"cp\": None}"
   ]
  },
  {
   "cell_type": "code",
   "execution_count": 5,
   "metadata": {},
   "outputs": [
    {
     "name": "stderr",
     "output_type": "stream",
     "text": [
      "ERROR:ContactDataParser:Error parsing entry: [{ \"contact_name\":\"Liav\", \"contact_surname\": \"Ichenbaum\", \"city\":\"Tel Aviv\"}. Error: Expecting ',' delimiter: line 1 column 77 (char 76)\n"
     ]
    }
   ],
   "source": [
    "import polars as pl\n",
    "import pandas as pd\n",
    "from pyspark.sql import SparkSession\n",
    "import json\n",
    "\n",
    "\n",
    "df_test = df_stg.with_columns((pl.col(\"contact_data\").map_elements(lambda x: parse_contact_data(x), return_dtype=pl.Object).alias('new_col')))\n",
    "\n"
   ]
  },
  {
   "cell_type": "code",
   "execution_count": 6,
   "metadata": {},
   "outputs": [],
   "source": [
    "df_normalized = pl.json_normalize(df_test['new_col'])"
   ]
  },
  {
   "cell_type": "code",
   "execution_count": 31,
   "metadata": {},
   "outputs": [],
   "source": [
    "df_normalized_unique = df_normalized.unique()\n"
   ]
  },
  {
   "cell_type": "code",
   "execution_count": 32,
   "metadata": {},
   "outputs": [
    {
     "data": {
      "text/plain": [
       "22"
      ]
     },
     "execution_count": 32,
     "metadata": {},
     "output_type": "execute_result"
    }
   ],
   "source": [
    "len(df_normalized_unique)"
   ]
  },
  {
   "cell_type": "code",
   "execution_count": 13,
   "metadata": {},
   "outputs": [
    {
     "data": {
      "text/plain": [
       "'Leonard Cohen, David Henderson'"
      ]
     },
     "execution_count": 13,
     "metadata": {},
     "output_type": "execute_result"
    }
   ],
   "source": [
    "df_test['salesowners'][5]"
   ]
  },
  {
   "cell_type": "code",
   "execution_count": 14,
   "metadata": {},
   "outputs": [
    {
     "data": {
      "text/html": [
       "<div><style>\n",
       ".dataframe > thead > tr,\n",
       ".dataframe > tbody > tr {\n",
       "  text-align: right;\n",
       "  white-space: pre-wrap;\n",
       "}\n",
       "</style>\n",
       "<small>shape: (5, 8)</small><table border=\"1\" class=\"dataframe\"><thead><tr><th>order_id</th><th>date</th><th>company_id</th><th>company_name</th><th>crate_type</th><th>contact_data</th><th>salesowners</th><th>new_col</th></tr><tr><td>str</td><td>str</td><td>str</td><td>str</td><td>str</td><td>str</td><td>str</td><td>object</td></tr></thead><tbody><tr><td>&quot;f47ac10b-58cc-4372-a567-0e02b2…</td><td>&quot;29.01.22&quot;</td><td>&quot;1e2b47e6-499e-41c6-91d3-09d12d…</td><td>&quot;Fresh Fruits Co&quot;</td><td>&quot;Plastic&quot;</td><td>&quot;[{ &quot;contact_name&quot;:&quot;Curtis&quot;, &quot;c…</td><td>&quot;Leonard Cohen, Luke Skywalker,…</td><td>{&#x27;contact_data&#x27;: &#x27;[{ &quot;contact_name&quot;:&quot;Curtis&quot;, &quot;contact_surname&quot;:&quot;Jackson&quot;, &quot;city&quot;:&quot;Chicago&quot;, &quot;cp&quot;: &quot;12345&quot;}]&#x27;, &#x27;contact_name&#x27;: &#x27;Curtis&#x27;, &#x27;contact_surname&#x27;: &#x27;Jackson&#x27;, &#x27;city&#x27;: &#x27;Chicago&#x27;, &#x27;cp&#x27;: &#x27;12345&#x27;}</td></tr><tr><td>&quot;f47ac10b-58cc-4372-a567-0e02b2…</td><td>&quot;21.02.22&quot;</td><td>&quot;0f05a8f1-2bdf-4be7-8c82-4c9b58…</td><td>&quot;Veggies Inc&quot;</td><td>&quot;Wood&quot;</td><td>&quot;[{ &quot;contact_name&quot;:&quot;Maria&quot;, &quot;co…</td><td>&quot;Luke Skywalker, David Goliat, …</td><td>{&#x27;contact_data&#x27;: &#x27;[{ &quot;contact_name&quot;:&quot;Maria&quot;, &quot;contact_surname&quot;:&quot;Theresa&quot;, &quot;city&quot;:&quot;Calcutta&quot;}]&#x27;, &#x27;contact_name&#x27;: &#x27;Maria&#x27;, &#x27;contact_surname&#x27;: &#x27;Theresa&#x27;, &#x27;city&#x27;: &#x27;Calcutta&#x27;, &#x27;cp&#x27;: None}</td></tr><tr><td>&quot;f47ac10b-58cc-4372-a567-0e02b2…</td><td>&quot;03.04.22&quot;</td><td>&quot;1e2b47e6-499e-41c6-91d3-09d12d…</td><td>&quot;Fresh Fruits c.o&quot;</td><td>&quot;Metal&quot;</td><td>&quot;[{ &quot;contact_name&quot;:&quot;Para&quot;, &quot;con…</td><td>&quot;Luke Skywalker&quot;</td><td>{&#x27;contact_data&#x27;: &#x27;[{ &quot;contact_name&quot;:&quot;Para&quot;, &quot;contact_surname&quot;:&quot;Cetamol&quot;, &quot;city&quot;:&quot;Frankfurt am Oder&quot;, &quot;cp&quot;: 3934}]&#x27;, &#x27;contact_name&#x27;: &#x27;Para&#x27;, &#x27;contact_surname&#x27;: &#x27;Cetamol&#x27;, &#x27;city&#x27;: &#x27;Frankfurt am Oder&#x27;, &#x27;cp&#x27;: 3934}</td></tr><tr><td>&quot;f47ac10b-58cc-4372-a567-0e02b2…</td><td>&quot;14.07.21&quot;</td><td>&quot;1c4b0b50-1d5d-463a-b56e-1a6fd3…</td><td>&quot;Seafood Supplier&quot;</td><td>&quot;Plastic&quot;</td><td>&quot;N/A&quot;</td><td>&quot;David Goliat, Leonard Cohen&quot;</td><td>{&#x27;contact_data&#x27;: &#x27;N/A&#x27;, &#x27;contact_name&#x27;: None, &#x27;contact_surname&#x27;: None, &#x27;city&#x27;: None, &#x27;cp&#x27;: None}</td></tr><tr><td>&quot;f47ac10b-58cc-4372-a567-0e02b2…</td><td>&quot;23.10.22&quot;</td><td>&quot;34538e39-cd2e-4641-8d24-3c9414…</td><td>&quot;Meat Packers Ltd&quot;</td><td>&quot;Plastic&quot;</td><td>&quot;N/A&quot;</td><td>&quot;Chris Pratt, David Henderson, …</td><td>{&#x27;contact_data&#x27;: &#x27;N/A&#x27;, &#x27;contact_name&#x27;: None, &#x27;contact_surname&#x27;: None, &#x27;city&#x27;: None, &#x27;cp&#x27;: None}</td></tr></tbody></table></div>"
      ],
      "text/plain": [
       "shape: (5, 8)\n",
       "┌────────────┬──────────┬────────────┬────────────┬────────────┬───────────┬───────────┬───────────┐\n",
       "│ order_id   ┆ date     ┆ company_id ┆ company_na ┆ crate_type ┆ contact_d ┆ salesowne ┆ new_col   │\n",
       "│ ---        ┆ ---      ┆ ---        ┆ me         ┆ ---        ┆ ata       ┆ rs        ┆ ---       │\n",
       "│ str        ┆ str      ┆ str        ┆ ---        ┆ str        ┆ ---       ┆ ---       ┆ object    │\n",
       "│            ┆          ┆            ┆ str        ┆            ┆ str       ┆ str       ┆           │\n",
       "╞════════════╪══════════╪════════════╪════════════╪════════════╪═══════════╪═══════════╪═══════════╡\n",
       "│ f47ac10b-5 ┆ 29.01.22 ┆ 1e2b47e6-4 ┆ Fresh      ┆ Plastic    ┆ [{ \"conta ┆ Leonard   ┆ {'contact │\n",
       "│ 8cc-4372-a ┆          ┆ 99e-41c6-9 ┆ Fruits Co  ┆            ┆ ct_name\": ┆ Cohen,    ┆ _data':   │\n",
       "│ 567-0e02b2 ┆          ┆ 1d3-09d12d ┆            ┆            ┆ \"Curtis\", ┆ Luke Skyw ┆ '[{ \"cont │\n",
       "│ …          ┆          ┆ …          ┆            ┆            ┆ \"c…       ┆ alker,…   ┆ act_…     │\n",
       "│ f47ac10b-5 ┆ 21.02.22 ┆ 0f05a8f1-2 ┆ Veggies    ┆ Wood       ┆ [{ \"conta ┆ Luke Skyw ┆ {'contact │\n",
       "│ 8cc-4372-a ┆          ┆ bdf-4be7-8 ┆ Inc        ┆            ┆ ct_name\": ┆ alker,    ┆ _data':   │\n",
       "│ 567-0e02b2 ┆          ┆ c82-4c9b58 ┆            ┆            ┆ \"Maria\",  ┆ David     ┆ '[{ \"cont │\n",
       "│ …          ┆          ┆ …          ┆            ┆            ┆ \"co…      ┆ Goliat, … ┆ act_…     │\n",
       "│ f47ac10b-5 ┆ 03.04.22 ┆ 1e2b47e6-4 ┆ Fresh      ┆ Metal      ┆ [{ \"conta ┆ Luke      ┆ {'contact │\n",
       "│ 8cc-4372-a ┆          ┆ 99e-41c6-9 ┆ Fruits c.o ┆            ┆ ct_name\": ┆ Skywalker ┆ _data':   │\n",
       "│ 567-0e02b2 ┆          ┆ 1d3-09d12d ┆            ┆            ┆ \"Para\",   ┆           ┆ '[{ \"cont │\n",
       "│ …          ┆          ┆ …          ┆            ┆            ┆ \"con…     ┆           ┆ act_…     │\n",
       "│ f47ac10b-5 ┆ 14.07.21 ┆ 1c4b0b50-1 ┆ Seafood    ┆ Plastic    ┆ N/A       ┆ David     ┆ {'contact │\n",
       "│ 8cc-4372-a ┆          ┆ d5d-463a-b ┆ Supplier   ┆            ┆           ┆ Goliat,   ┆ _data':   │\n",
       "│ 567-0e02b2 ┆          ┆ 56e-1a6fd3 ┆            ┆            ┆           ┆ Leonard   ┆ 'N/A',    │\n",
       "│ …          ┆          ┆ …          ┆            ┆            ┆           ┆ Cohen     ┆ 'conta…   │\n",
       "│ f47ac10b-5 ┆ 23.10.22 ┆ 34538e39-c ┆ Meat       ┆ Plastic    ┆ N/A       ┆ Chris     ┆ {'contact │\n",
       "│ 8cc-4372-a ┆          ┆ d2e-4641-8 ┆ Packers    ┆            ┆           ┆ Pratt,    ┆ _data':   │\n",
       "│ 567-0e02b2 ┆          ┆ d24-3c9414 ┆ Ltd        ┆            ┆           ┆ David Hen ┆ 'N/A',    │\n",
       "│ …          ┆          ┆ …          ┆            ┆            ┆           ┆ derson, … ┆ 'conta…   │\n",
       "└────────────┴──────────┴────────────┴────────────┴────────────┴───────────┴───────────┴───────────┘"
      ]
     },
     "execution_count": 14,
     "metadata": {},
     "output_type": "execute_result"
    }
   ],
   "source": [
    "df_test.head()"
   ]
  },
  {
   "cell_type": "code",
   "execution_count": 15,
   "metadata": {},
   "outputs": [
    {
     "ename": "AttributeError",
     "evalue": "'DataFrame' object has no attribute 'groupby'",
     "output_type": "error",
     "traceback": [
      "\u001b[0;31m---------------------------------------------------------------------------\u001b[0m",
      "\u001b[0;31mAttributeError\u001b[0m                            Traceback (most recent call last)",
      "Cell \u001b[0;32mIn[15], line 2\u001b[0m\n\u001b[1;32m      1\u001b[0m df_duplicates \u001b[38;5;241m=\u001b[39m (\n\u001b[0;32m----> 2\u001b[0m     \u001b[43mdf_test\u001b[49m\u001b[38;5;241;43m.\u001b[39;49m\u001b[43mgroupby\u001b[49m(\u001b[38;5;124m\"\u001b[39m\u001b[38;5;124morder_id\u001b[39m\u001b[38;5;124m\"\u001b[39m)\u001b[38;5;241m.\u001b[39magg(pl\u001b[38;5;241m.\u001b[39mcol(\u001b[38;5;124m\"\u001b[39m\u001b[38;5;124msalesowners\u001b[39m\u001b[38;5;124m\"\u001b[39m)\u001b[38;5;241m.\u001b[39mn_unique()\u001b[38;5;241m.\u001b[39malias(\u001b[38;5;124m\"\u001b[39m\u001b[38;5;124munique_name_count\u001b[39m\u001b[38;5;124m\"\u001b[39m))\u001b[38;5;241m.\u001b[39mfilter(pl\u001b[38;5;241m.\u001b[39mcol(\u001b[38;5;124m\"\u001b[39m\u001b[38;5;124munique_name_count\u001b[39m\u001b[38;5;124m\"\u001b[39m) \u001b[38;5;241m>\u001b[39m \u001b[38;5;241m1\u001b[39m)\n\u001b[1;32m      3\u001b[0m )\n",
      "\u001b[0;31mAttributeError\u001b[0m: 'DataFrame' object has no attribute 'groupby'"
     ]
    }
   ],
   "source": [
    "df_duplicates = (\n",
    "    df_test.groupby(\"order_id\").agg(pl.col(\"salesowners\").n_unique().alias(\"unique_name_count\")).filter(pl.col(\"unique_name_count\") > 1)\n",
    ")\n"
   ]
  },
  {
   "cell_type": "code",
   "execution_count": 16,
   "metadata": {},
   "outputs": [],
   "source": [
    "# Group by company_id and count unique company_name entries\n",
    "df_duplicates = (\n",
    "    df_test.group_by(\"order_id\")  # use groupby() not groupby\n",
    "    .agg(pl.col(\"salesowners\").n_unique().alias(\"unique_name_count\"))\n",
    "    .filter(pl.col(\"unique_name_count\") > 1)\n",
    ")"
   ]
  },
  {
   "cell_type": "code",
   "execution_count": null,
   "metadata": {},
   "outputs": [
    {
     "data": {
      "text/html": [
       "<div><style>\n",
       ".dataframe > thead > tr,\n",
       ".dataframe > tbody > tr {\n",
       "  text-align: right;\n",
       "  white-space: pre-wrap;\n",
       "}\n",
       "</style>\n",
       "<small>shape: (0, 2)</small><table border=\"1\" class=\"dataframe\"><thead><tr><th>order_id</th><th>unique_name_count</th></tr><tr><td>str</td><td>u32</td></tr></thead><tbody></tbody></table></div>"
      ],
      "text/plain": [
       "shape: (0, 2)\n",
       "┌──────────┬───────────────────┐\n",
       "│ order_id ┆ unique_name_count │\n",
       "│ ---      ┆ ---               │\n",
       "│ str      ┆ u32               │\n",
       "╞══════════╪═══════════════════╡\n",
       "└──────────┴───────────────────┘"
      ]
     },
     "execution_count": 17,
     "metadata": {},
     "output_type": "execute_result"
    }
   ],
   "source": [
    "orders_id_per_salesowners = orders_stable_schema.select([\"order_id\", \"salesowners\"])\n"
   ]
  },
  {
   "cell_type": "code",
   "execution_count": 33,
   "metadata": {},
   "outputs": [],
   "source": [
    "df_combined = df_test.join(df_normalized_unique, how=\"inner\", on = \"contact_data\")"
   ]
  },
  {
   "cell_type": "code",
   "execution_count": 34,
   "metadata": {},
   "outputs": [
    {
     "data": {
      "text/plain": [
       "62"
      ]
     },
     "execution_count": 34,
     "metadata": {},
     "output_type": "execute_result"
    }
   ],
   "source": [
    "len(df_combined)"
   ]
  },
  {
   "cell_type": "code",
   "execution_count": 35,
   "metadata": {},
   "outputs": [
    {
     "data": {
      "text/html": [
       "<div><style>\n",
       ".dataframe > thead > tr,\n",
       ".dataframe > tbody > tr {\n",
       "  text-align: right;\n",
       "  white-space: pre-wrap;\n",
       "}\n",
       "</style>\n",
       "<small>shape: (62, 12)</small><table border=\"1\" class=\"dataframe\"><thead><tr><th>order_id</th><th>date</th><th>company_id</th><th>company_name</th><th>crate_type</th><th>contact_data</th><th>salesowners</th><th>new_col</th><th>contact_name</th><th>contact_surname</th><th>city</th><th>cp</th></tr><tr><td>str</td><td>str</td><td>str</td><td>str</td><td>str</td><td>str</td><td>str</td><td>object</td><td>str</td><td>str</td><td>str</td><td>str</td></tr></thead><tbody><tr><td>&quot;f47ac10b-58cc-4372-a567-0e02b2…</td><td>&quot;29.01.22&quot;</td><td>&quot;1e2b47e6-499e-41c6-91d3-09d12d…</td><td>&quot;Fresh Fruits Co&quot;</td><td>&quot;Plastic&quot;</td><td>&quot;[{ &quot;contact_name&quot;:&quot;Curtis&quot;, &quot;c…</td><td>&quot;Leonard Cohen, Luke Skywalker,…</td><td>{&#x27;contact_data&#x27;: &#x27;[{ &quot;contact_name&quot;:&quot;Curtis&quot;, &quot;contact_surname&quot;:&quot;Jackson&quot;, &quot;city&quot;:&quot;Chicago&quot;, &quot;cp&quot;: &quot;12345&quot;}]&#x27;, &#x27;contact_name&#x27;: &#x27;Curtis&#x27;, &#x27;contact_surname&#x27;: &#x27;Jackson&#x27;, &#x27;city&#x27;: &#x27;Chicago&#x27;, &#x27;cp&#x27;: &#x27;12345&#x27;}</td><td>&quot;Curtis&quot;</td><td>&quot;Jackson&quot;</td><td>&quot;Chicago&quot;</td><td>&quot;12345&quot;</td></tr><tr><td>&quot;f47ac10b-58cc-4372-a567-0e02b2…</td><td>&quot;21.02.22&quot;</td><td>&quot;0f05a8f1-2bdf-4be7-8c82-4c9b58…</td><td>&quot;Veggies Inc&quot;</td><td>&quot;Wood&quot;</td><td>&quot;[{ &quot;contact_name&quot;:&quot;Maria&quot;, &quot;co…</td><td>&quot;Luke Skywalker, David Goliat, …</td><td>{&#x27;contact_data&#x27;: &#x27;[{ &quot;contact_name&quot;:&quot;Maria&quot;, &quot;contact_surname&quot;:&quot;Theresa&quot;, &quot;city&quot;:&quot;Calcutta&quot;}]&#x27;, &#x27;contact_name&#x27;: &#x27;Maria&#x27;, &#x27;contact_surname&#x27;: &#x27;Theresa&#x27;, &#x27;city&#x27;: &#x27;Calcutta&#x27;, &#x27;cp&#x27;: None}</td><td>&quot;Maria&quot;</td><td>&quot;Theresa&quot;</td><td>&quot;Calcutta&quot;</td><td>null</td></tr><tr><td>&quot;f47ac10b-58cc-4372-a567-0e02b2…</td><td>&quot;03.04.22&quot;</td><td>&quot;1e2b47e6-499e-41c6-91d3-09d12d…</td><td>&quot;Fresh Fruits c.o&quot;</td><td>&quot;Metal&quot;</td><td>&quot;[{ &quot;contact_name&quot;:&quot;Para&quot;, &quot;con…</td><td>&quot;Luke Skywalker&quot;</td><td>{&#x27;contact_data&#x27;: &#x27;[{ &quot;contact_name&quot;:&quot;Para&quot;, &quot;contact_surname&quot;:&quot;Cetamol&quot;, &quot;city&quot;:&quot;Frankfurt am Oder&quot;, &quot;cp&quot;: 3934}]&#x27;, &#x27;contact_name&#x27;: &#x27;Para&#x27;, &#x27;contact_surname&#x27;: &#x27;Cetamol&#x27;, &#x27;city&#x27;: &#x27;Frankfurt am Oder&#x27;, &#x27;cp&#x27;: 3934}</td><td>&quot;Para&quot;</td><td>&quot;Cetamol&quot;</td><td>&quot;Frankfurt am Oder&quot;</td><td>&quot;3934&quot;</td></tr><tr><td>&quot;f47ac10b-58cc-4372-a567-0e02b2…</td><td>&quot;14.07.21&quot;</td><td>&quot;1c4b0b50-1d5d-463a-b56e-1a6fd3…</td><td>&quot;Seafood Supplier&quot;</td><td>&quot;Plastic&quot;</td><td>&quot;N/A&quot;</td><td>&quot;David Goliat, Leonard Cohen&quot;</td><td>{&#x27;contact_data&#x27;: &#x27;N/A&#x27;, &#x27;contact_name&#x27;: None, &#x27;contact_surname&#x27;: None, &#x27;city&#x27;: None, &#x27;cp&#x27;: None}</td><td>null</td><td>null</td><td>null</td><td>null</td></tr><tr><td>&quot;f47ac10b-58cc-4372-a567-0e02b2…</td><td>&quot;23.10.22&quot;</td><td>&quot;34538e39-cd2e-4641-8d24-3c9414…</td><td>&quot;Meat Packers Ltd&quot;</td><td>&quot;Plastic&quot;</td><td>&quot;N/A&quot;</td><td>&quot;Chris Pratt, David Henderson, …</td><td>{&#x27;contact_data&#x27;: &#x27;N/A&#x27;, &#x27;contact_name&#x27;: None, &#x27;contact_surname&#x27;: None, &#x27;city&#x27;: None, &#x27;cp&#x27;: None}</td><td>null</td><td>null</td><td>null</td><td>null</td></tr><tr><td>&hellip;</td><td>&hellip;</td><td>&hellip;</td><td>&hellip;</td><td>&hellip;</td><td>&hellip;</td><td>&hellip;</td><td>&hellip;</td><td>&hellip;</td><td>&hellip;</td><td>&hellip;</td><td>&hellip;</td></tr><tr><td>&quot;f47ac10b-58cc-4372-a567-0e02b2…</td><td>&quot;11.05.25&quot;</td><td>&quot;5f0bdbdf-1d84-4c23-957c-8bb8c0…</td><td>&quot;Tropical Fruits Ltd&quot;</td><td>&quot;Metal&quot;</td><td>&quot;[{ &quot;contact_name&quot;:&quot;Liav&quot;, &quot;con…</td><td>&quot;Yuri Gagarin, David Goliat&quot;</td><td>{&#x27;contact_data&#x27;: &#x27;[{ &quot;contact_name&quot;:&quot;Liav&quot;, &quot;contact_surname&quot;: &quot;Ichenbaum&quot;, &quot;city&quot;:&quot;Tel Aviv&quot;}&#x27;, &#x27;contact_name&#x27;: None, &#x27;contact_surname&#x27;: None, &#x27;city&#x27;: None, &#x27;cp&#x27;: None}</td><td>null</td><td>null</td><td>null</td><td>null</td></tr><tr><td>&quot;f47ac10b-58cc-4372-a567-0e02b2…</td><td>&quot;20.05.25&quot;</td><td>&quot;acdb6f30-764f-404e-8b8e-7e7e3e…</td><td>&quot;Organic Farms&quot;</td><td>&quot;Plastic&quot;</td><td>&quot;[{ &quot;contact_name&quot;:&quot;Jennifer&quot;, …</td><td>&quot;Leon Leonov, Chris Pratt&quot;</td><td>{&#x27;contact_data&#x27;: &#x27;[{ &quot;contact_name&quot;:&quot;Jennifer&quot;, &quot;contact_surname&quot;:&quot;Lopez&quot;, &quot;city&quot;:&quot;Esplugues de Llobregat&quot;}]&#x27;, &#x27;contact_name&#x27;: &#x27;Jennifer&#x27;, &#x27;contact_surname&#x27;: &#x27;Lopez&#x27;, &#x27;city&#x27;: &#x27;Esplugues de Llobregat&#x27;, &#x27;cp&#x27;: None}</td><td>&quot;Jennifer&quot;</td><td>&quot;Lopez&quot;</td><td>&quot;Esplugues de Llobregat&quot;</td><td>null</td></tr><tr><td>&quot;f47ac10b-58cc-4372-a567-0e02b2…</td><td>&quot;27.05.25&quot;</td><td>&quot;2e90f2b1-d237-47a6-96e8-6d01c0…</td><td>&quot;Seafood Supplier GmbH&quot;</td><td>&quot;Metal&quot;</td><td>&quot;N/A&quot;</td><td>&quot;Ammy Winehouse, Leonard Cohen&quot;</td><td>{&#x27;contact_data&#x27;: &#x27;N/A&#x27;, &#x27;contact_name&#x27;: None, &#x27;contact_surname&#x27;: None, &#x27;city&#x27;: None, &#x27;cp&#x27;: None}</td><td>null</td><td>null</td><td>null</td><td>null</td></tr><tr><td>&quot;f47ac10b-58cc-4372-a567-0e02b2…</td><td>&quot;04.06.25&quot;</td><td>&quot;fa14c3ed-3c48-49f4-bd69-4d7f5b…</td><td>&quot;Green Veg Co&quot;</td><td>&quot;Plastic&quot;</td><td>&quot;N/A&quot;</td><td>&quot;Luke Skywalker, Chris Pratt&quot;</td><td>{&#x27;contact_data&#x27;: &#x27;N/A&#x27;, &#x27;contact_name&#x27;: None, &#x27;contact_surname&#x27;: None, &#x27;city&#x27;: None, &#x27;cp&#x27;: None}</td><td>null</td><td>null</td><td>null</td><td>null</td></tr><tr><td>&quot;f47ac10b-58cc-4372-a567-0e02b2…</td><td>&quot;15.06.25&quot;</td><td>&quot;1e2b47e6-499e-41c6-91d3-09d12d…</td><td>&quot;Fresh Fruits Co&quot;</td><td>&quot;Wood&quot;</td><td>&quot;[{ &quot;contact_name&quot;:&quot;Curtis&quot;, &quot;c…</td><td>&quot;Leonard Cohen, Ammy Winehouse&quot;</td><td>{&#x27;contact_data&#x27;: &#x27;[{ &quot;contact_name&quot;:&quot;Curtis&quot;, &quot;contact_surname&quot;:&quot;Jackson&quot;, &quot;city&quot;:&quot;Chicago&quot;, &quot;cp&quot;: &quot;12345&quot;}]&#x27;, &#x27;contact_name&#x27;: &#x27;Curtis&#x27;, &#x27;contact_surname&#x27;: &#x27;Jackson&#x27;, &#x27;city&#x27;: &#x27;Chicago&#x27;, &#x27;cp&#x27;: &#x27;12345&#x27;}</td><td>&quot;Curtis&quot;</td><td>&quot;Jackson&quot;</td><td>&quot;Chicago&quot;</td><td>&quot;12345&quot;</td></tr></tbody></table></div>"
      ],
      "text/plain": [
       "shape: (62, 12)\n",
       "┌────────────┬──────────┬────────────┬────────────┬───┬────────────┬───────────┬───────────┬───────┐\n",
       "│ order_id   ┆ date     ┆ company_id ┆ company_na ┆ … ┆ contact_na ┆ contact_s ┆ city      ┆ cp    │\n",
       "│ ---        ┆ ---      ┆ ---        ┆ me         ┆   ┆ me         ┆ urname    ┆ ---       ┆ ---   │\n",
       "│ str        ┆ str      ┆ str        ┆ ---        ┆   ┆ ---        ┆ ---       ┆ str       ┆ str   │\n",
       "│            ┆          ┆            ┆ str        ┆   ┆ str        ┆ str       ┆           ┆       │\n",
       "╞════════════╪══════════╪════════════╪════════════╪═══╪════════════╪═══════════╪═══════════╪═══════╡\n",
       "│ f47ac10b-5 ┆ 29.01.22 ┆ 1e2b47e6-4 ┆ Fresh      ┆ … ┆ Curtis     ┆ Jackson   ┆ Chicago   ┆ 12345 │\n",
       "│ 8cc-4372-a ┆          ┆ 99e-41c6-9 ┆ Fruits Co  ┆   ┆            ┆           ┆           ┆       │\n",
       "│ 567-0e02b2 ┆          ┆ 1d3-09d12d ┆            ┆   ┆            ┆           ┆           ┆       │\n",
       "│ …          ┆          ┆ …          ┆            ┆   ┆            ┆           ┆           ┆       │\n",
       "│ f47ac10b-5 ┆ 21.02.22 ┆ 0f05a8f1-2 ┆ Veggies    ┆ … ┆ Maria      ┆ Theresa   ┆ Calcutta  ┆ null  │\n",
       "│ 8cc-4372-a ┆          ┆ bdf-4be7-8 ┆ Inc        ┆   ┆            ┆           ┆           ┆       │\n",
       "│ 567-0e02b2 ┆          ┆ c82-4c9b58 ┆            ┆   ┆            ┆           ┆           ┆       │\n",
       "│ …          ┆          ┆ …          ┆            ┆   ┆            ┆           ┆           ┆       │\n",
       "│ f47ac10b-5 ┆ 03.04.22 ┆ 1e2b47e6-4 ┆ Fresh      ┆ … ┆ Para       ┆ Cetamol   ┆ Frankfurt ┆ 3934  │\n",
       "│ 8cc-4372-a ┆          ┆ 99e-41c6-9 ┆ Fruits c.o ┆   ┆            ┆           ┆ am Oder   ┆       │\n",
       "│ 567-0e02b2 ┆          ┆ 1d3-09d12d ┆            ┆   ┆            ┆           ┆           ┆       │\n",
       "│ …          ┆          ┆ …          ┆            ┆   ┆            ┆           ┆           ┆       │\n",
       "│ f47ac10b-5 ┆ 14.07.21 ┆ 1c4b0b50-1 ┆ Seafood    ┆ … ┆ null       ┆ null      ┆ null      ┆ null  │\n",
       "│ 8cc-4372-a ┆          ┆ d5d-463a-b ┆ Supplier   ┆   ┆            ┆           ┆           ┆       │\n",
       "│ 567-0e02b2 ┆          ┆ 56e-1a6fd3 ┆            ┆   ┆            ┆           ┆           ┆       │\n",
       "│ …          ┆          ┆ …          ┆            ┆   ┆            ┆           ┆           ┆       │\n",
       "│ f47ac10b-5 ┆ 23.10.22 ┆ 34538e39-c ┆ Meat       ┆ … ┆ null       ┆ null      ┆ null      ┆ null  │\n",
       "│ 8cc-4372-a ┆          ┆ d2e-4641-8 ┆ Packers    ┆   ┆            ┆           ┆           ┆       │\n",
       "│ 567-0e02b2 ┆          ┆ d24-3c9414 ┆ Ltd        ┆   ┆            ┆           ┆           ┆       │\n",
       "│ …          ┆          ┆ …          ┆            ┆   ┆            ┆           ┆           ┆       │\n",
       "│ …          ┆ …        ┆ …          ┆ …          ┆ … ┆ …          ┆ …         ┆ …         ┆ …     │\n",
       "│ f47ac10b-5 ┆ 11.05.25 ┆ 5f0bdbdf-1 ┆ Tropical   ┆ … ┆ null       ┆ null      ┆ null      ┆ null  │\n",
       "│ 8cc-4372-a ┆          ┆ d84-4c23-9 ┆ Fruits Ltd ┆   ┆            ┆           ┆           ┆       │\n",
       "│ 567-0e02b2 ┆          ┆ 57c-8bb8c0 ┆            ┆   ┆            ┆           ┆           ┆       │\n",
       "│ …          ┆          ┆ …          ┆            ┆   ┆            ┆           ┆           ┆       │\n",
       "│ f47ac10b-5 ┆ 20.05.25 ┆ acdb6f30-7 ┆ Organic    ┆ … ┆ Jennifer   ┆ Lopez     ┆ Esplugues ┆ null  │\n",
       "│ 8cc-4372-a ┆          ┆ 64f-404e-8 ┆ Farms      ┆   ┆            ┆           ┆ de        ┆       │\n",
       "│ 567-0e02b2 ┆          ┆ b8e-7e7e3e ┆            ┆   ┆            ┆           ┆ Llobregat ┆       │\n",
       "│ …          ┆          ┆ …          ┆            ┆   ┆            ┆           ┆           ┆       │\n",
       "│ f47ac10b-5 ┆ 27.05.25 ┆ 2e90f2b1-d ┆ Seafood    ┆ … ┆ null       ┆ null      ┆ null      ┆ null  │\n",
       "│ 8cc-4372-a ┆          ┆ 237-47a6-9 ┆ Supplier   ┆   ┆            ┆           ┆           ┆       │\n",
       "│ 567-0e02b2 ┆          ┆ 6e8-6d01c0 ┆ GmbH       ┆   ┆            ┆           ┆           ┆       │\n",
       "│ …          ┆          ┆ …          ┆            ┆   ┆            ┆           ┆           ┆       │\n",
       "│ f47ac10b-5 ┆ 04.06.25 ┆ fa14c3ed-3 ┆ Green Veg  ┆ … ┆ null       ┆ null      ┆ null      ┆ null  │\n",
       "│ 8cc-4372-a ┆          ┆ c48-49f4-b ┆ Co         ┆   ┆            ┆           ┆           ┆       │\n",
       "│ 567-0e02b2 ┆          ┆ d69-4d7f5b ┆            ┆   ┆            ┆           ┆           ┆       │\n",
       "│ …          ┆          ┆ …          ┆            ┆   ┆            ┆           ┆           ┆       │\n",
       "│ f47ac10b-5 ┆ 15.06.25 ┆ 1e2b47e6-4 ┆ Fresh      ┆ … ┆ Curtis     ┆ Jackson   ┆ Chicago   ┆ 12345 │\n",
       "│ 8cc-4372-a ┆          ┆ 99e-41c6-9 ┆ Fruits Co  ┆   ┆            ┆           ┆           ┆       │\n",
       "│ 567-0e02b2 ┆          ┆ 1d3-09d12d ┆            ┆   ┆            ┆           ┆           ┆       │\n",
       "│ …          ┆          ┆ …          ┆            ┆   ┆            ┆           ┆           ┆       │\n",
       "└────────────┴──────────┴────────────┴────────────┴───┴────────────┴───────────┴───────────┴───────┘"
      ]
     },
     "execution_count": 35,
     "metadata": {},
     "output_type": "execute_result"
    }
   ],
   "source": [
    "df_combined"
   ]
  },
  {
   "cell_type": "code",
   "execution_count": 29,
   "metadata": {},
   "outputs": [],
   "source": [
    "df_combined = df_test.join(df_normalized, how=\"inner\", on = \"contact_data\")\n"
   ]
  },
  {
   "cell_type": "code",
   "execution_count": 30,
   "metadata": {},
   "outputs": [
    {
     "data": {
      "text/html": [
       "<div><style>\n",
       ".dataframe > thead > tr,\n",
       ".dataframe > tbody > tr {\n",
       "  text-align: right;\n",
       "  white-space: pre-wrap;\n",
       "}\n",
       "</style>\n",
       "<small>shape: (414, 12)</small><table border=\"1\" class=\"dataframe\"><thead><tr><th>order_id</th><th>date</th><th>company_id</th><th>company_name</th><th>crate_type</th><th>contact_data</th><th>salesowners</th><th>new_col</th><th>contact_name</th><th>contact_surname</th><th>city</th><th>cp</th></tr><tr><td>str</td><td>str</td><td>str</td><td>str</td><td>str</td><td>str</td><td>str</td><td>object</td><td>str</td><td>str</td><td>str</td><td>str</td></tr></thead><tbody><tr><td>&quot;f47ac10b-58cc-4372-a567-0e02b2…</td><td>&quot;29.01.22&quot;</td><td>&quot;1e2b47e6-499e-41c6-91d3-09d12d…</td><td>&quot;Fresh Fruits Co&quot;</td><td>&quot;Plastic&quot;</td><td>&quot;[{ &quot;contact_name&quot;:&quot;Curtis&quot;, &quot;c…</td><td>&quot;Leonard Cohen, Luke Skywalker,…</td><td>{&#x27;contact_data&#x27;: &#x27;[{ &quot;contact_name&quot;:&quot;Curtis&quot;, &quot;contact_surname&quot;:&quot;Jackson&quot;, &quot;city&quot;:&quot;Chicago&quot;, &quot;cp&quot;: &quot;12345&quot;}]&#x27;, &#x27;contact_name&#x27;: &#x27;Curtis&#x27;, &#x27;contact_surname&#x27;: &#x27;Jackson&#x27;, &#x27;city&#x27;: &#x27;Chicago&#x27;, &#x27;cp&#x27;: &#x27;12345&#x27;}</td><td>&quot;Curtis&quot;</td><td>&quot;Jackson&quot;</td><td>&quot;Chicago&quot;</td><td>&quot;12345&quot;</td></tr><tr><td>&quot;f47ac10b-58cc-4372-a567-0e02b2…</td><td>&quot;07.11.22&quot;</td><td>&quot;27c59f76-5d26-4b82-a89b-59f8df…</td><td>&quot;Healthy Snacks&quot;</td><td>&quot;Plastic&quot;</td><td>&quot;[{ &quot;contact_name&quot;:&quot;Curtis&quot;, &quot;c…</td><td>&quot;Ammy Winehouse, Marie Curie, C…</td><td>{&#x27;contact_data&#x27;: &#x27;[{ &quot;contact_name&quot;:&quot;Curtis&quot;, &quot;contact_surname&quot;:&quot;Jackson&quot;, &quot;city&quot;:&quot;Chicago&quot;, &quot;cp&quot;: &quot;12345&quot;}]&#x27;, &#x27;contact_name&#x27;: &#x27;Curtis&#x27;, &#x27;contact_surname&#x27;: &#x27;Jackson&#x27;, &#x27;city&#x27;: &#x27;Chicago&#x27;, &#x27;cp&#x27;: &#x27;12345&#x27;}</td><td>&quot;Curtis&quot;</td><td>&quot;Jackson&quot;</td><td>&quot;Chicago&quot;</td><td>&quot;12345&quot;</td></tr><tr><td>&quot;f47ac10b-58cc-4372-a567-0e02b2…</td><td>&quot;27.03.24&quot;</td><td>&quot;9851fa89-7b7a-4ed5-89f7-65c205…</td><td>&quot;Fruit Market Ltd&quot;</td><td>&quot;Plastic&quot;</td><td>&quot;[{ &quot;contact_name&quot;:&quot;Curtis&quot;, &quot;c…</td><td>&quot;Leonard Cohen, David Henderson…</td><td>{&#x27;contact_data&#x27;: &#x27;[{ &quot;contact_name&quot;:&quot;Curtis&quot;, &quot;contact_surname&quot;:&quot;Jackson&quot;, &quot;city&quot;:&quot;Chicago&quot;, &quot;cp&quot;: &quot;12345&quot;}]&#x27;, &#x27;contact_name&#x27;: &#x27;Curtis&#x27;, &#x27;contact_surname&#x27;: &#x27;Jackson&#x27;, &#x27;city&#x27;: &#x27;Chicago&#x27;, &#x27;cp&#x27;: &#x27;12345&#x27;}</td><td>&quot;Curtis&quot;</td><td>&quot;Jackson&quot;</td><td>&quot;Chicago&quot;</td><td>&quot;12345&quot;</td></tr><tr><td>&quot;f47ac10b-58cc-4372-a567-0e02b2…</td><td>&quot;17.11.24&quot;</td><td>&quot;1e2b47e6-499e-41c6-91d3-09d12d…</td><td>&quot;Fresh Fruits Co&quot;</td><td>&quot;Plastic&quot;</td><td>&quot;[{ &quot;contact_name&quot;:&quot;Curtis&quot;, &quot;c…</td><td>&quot;Leonard Cohen, Luke Skywalker,…</td><td>{&#x27;contact_data&#x27;: &#x27;[{ &quot;contact_name&quot;:&quot;Curtis&quot;, &quot;contact_surname&quot;:&quot;Jackson&quot;, &quot;city&quot;:&quot;Chicago&quot;, &quot;cp&quot;: &quot;12345&quot;}]&#x27;, &#x27;contact_name&#x27;: &#x27;Curtis&#x27;, &#x27;contact_surname&#x27;: &#x27;Jackson&#x27;, &#x27;city&#x27;: &#x27;Chicago&#x27;, &#x27;cp&#x27;: &#x27;12345&#x27;}</td><td>&quot;Curtis&quot;</td><td>&quot;Jackson&quot;</td><td>&quot;Chicago&quot;</td><td>&quot;12345&quot;</td></tr><tr><td>&quot;f47ac10b-58cc-4372-a567-0e02b2…</td><td>&quot;21.03.25&quot;</td><td>&quot;27c59f76-5d26-4b82-a89b-59f8df…</td><td>&quot;Healthy Snacks&quot;</td><td>&quot;Plastic&quot;</td><td>&quot;[{ &quot;contact_name&quot;:&quot;Curtis&quot;, &quot;c…</td><td>&quot;Ammy Winehouse, Marie Curie, C…</td><td>{&#x27;contact_data&#x27;: &#x27;[{ &quot;contact_name&quot;:&quot;Curtis&quot;, &quot;contact_surname&quot;:&quot;Jackson&quot;, &quot;city&quot;:&quot;Chicago&quot;, &quot;cp&quot;: &quot;12345&quot;}]&#x27;, &#x27;contact_name&#x27;: &#x27;Curtis&#x27;, &#x27;contact_surname&#x27;: &#x27;Jackson&#x27;, &#x27;city&#x27;: &#x27;Chicago&#x27;, &#x27;cp&#x27;: &#x27;12345&#x27;}</td><td>&quot;Curtis&quot;</td><td>&quot;Jackson&quot;</td><td>&quot;Chicago&quot;</td><td>&quot;12345&quot;</td></tr><tr><td>&hellip;</td><td>&hellip;</td><td>&hellip;</td><td>&hellip;</td><td>&hellip;</td><td>&hellip;</td><td>&hellip;</td><td>&hellip;</td><td>&hellip;</td><td>&hellip;</td><td>&hellip;</td><td>&hellip;</td></tr><tr><td>&quot;f47ac10b-58cc-4372-a567-0e02b2…</td><td>&quot;07.11.22&quot;</td><td>&quot;27c59f76-5d26-4b82-a89b-59f8df…</td><td>&quot;Healthy Snacks&quot;</td><td>&quot;Plastic&quot;</td><td>&quot;[{ &quot;contact_name&quot;:&quot;Curtis&quot;, &quot;c…</td><td>&quot;Ammy Winehouse, Marie Curie, C…</td><td>{&#x27;contact_data&#x27;: &#x27;[{ &quot;contact_name&quot;:&quot;Curtis&quot;, &quot;contact_surname&quot;:&quot;Jackson&quot;, &quot;city&quot;:&quot;Chicago&quot;, &quot;cp&quot;: &quot;12345&quot;}]&#x27;, &#x27;contact_name&#x27;: &#x27;Curtis&#x27;, &#x27;contact_surname&#x27;: &#x27;Jackson&#x27;, &#x27;city&#x27;: &#x27;Chicago&#x27;, &#x27;cp&#x27;: &#x27;12345&#x27;}</td><td>&quot;Curtis&quot;</td><td>&quot;Jackson&quot;</td><td>&quot;Chicago&quot;</td><td>&quot;12345&quot;</td></tr><tr><td>&quot;f47ac10b-58cc-4372-a567-0e02b2…</td><td>&quot;27.03.24&quot;</td><td>&quot;9851fa89-7b7a-4ed5-89f7-65c205…</td><td>&quot;Fruit Market Ltd&quot;</td><td>&quot;Plastic&quot;</td><td>&quot;[{ &quot;contact_name&quot;:&quot;Curtis&quot;, &quot;c…</td><td>&quot;Leonard Cohen, David Henderson…</td><td>{&#x27;contact_data&#x27;: &#x27;[{ &quot;contact_name&quot;:&quot;Curtis&quot;, &quot;contact_surname&quot;:&quot;Jackson&quot;, &quot;city&quot;:&quot;Chicago&quot;, &quot;cp&quot;: &quot;12345&quot;}]&#x27;, &#x27;contact_name&#x27;: &#x27;Curtis&#x27;, &#x27;contact_surname&#x27;: &#x27;Jackson&#x27;, &#x27;city&#x27;: &#x27;Chicago&#x27;, &#x27;cp&#x27;: &#x27;12345&#x27;}</td><td>&quot;Curtis&quot;</td><td>&quot;Jackson&quot;</td><td>&quot;Chicago&quot;</td><td>&quot;12345&quot;</td></tr><tr><td>&quot;f47ac10b-58cc-4372-a567-0e02b2…</td><td>&quot;17.11.24&quot;</td><td>&quot;1e2b47e6-499e-41c6-91d3-09d12d…</td><td>&quot;Fresh Fruits Co&quot;</td><td>&quot;Plastic&quot;</td><td>&quot;[{ &quot;contact_name&quot;:&quot;Curtis&quot;, &quot;c…</td><td>&quot;Leonard Cohen, Luke Skywalker,…</td><td>{&#x27;contact_data&#x27;: &#x27;[{ &quot;contact_name&quot;:&quot;Curtis&quot;, &quot;contact_surname&quot;:&quot;Jackson&quot;, &quot;city&quot;:&quot;Chicago&quot;, &quot;cp&quot;: &quot;12345&quot;}]&#x27;, &#x27;contact_name&#x27;: &#x27;Curtis&#x27;, &#x27;contact_surname&#x27;: &#x27;Jackson&#x27;, &#x27;city&#x27;: &#x27;Chicago&#x27;, &#x27;cp&#x27;: &#x27;12345&#x27;}</td><td>&quot;Curtis&quot;</td><td>&quot;Jackson&quot;</td><td>&quot;Chicago&quot;</td><td>&quot;12345&quot;</td></tr><tr><td>&quot;f47ac10b-58cc-4372-a567-0e02b2…</td><td>&quot;21.03.25&quot;</td><td>&quot;27c59f76-5d26-4b82-a89b-59f8df…</td><td>&quot;Healthy Snacks&quot;</td><td>&quot;Plastic&quot;</td><td>&quot;[{ &quot;contact_name&quot;:&quot;Curtis&quot;, &quot;c…</td><td>&quot;Ammy Winehouse, Marie Curie, C…</td><td>{&#x27;contact_data&#x27;: &#x27;[{ &quot;contact_name&quot;:&quot;Curtis&quot;, &quot;contact_surname&quot;:&quot;Jackson&quot;, &quot;city&quot;:&quot;Chicago&quot;, &quot;cp&quot;: &quot;12345&quot;}]&#x27;, &#x27;contact_name&#x27;: &#x27;Curtis&#x27;, &#x27;contact_surname&#x27;: &#x27;Jackson&#x27;, &#x27;city&#x27;: &#x27;Chicago&#x27;, &#x27;cp&#x27;: &#x27;12345&#x27;}</td><td>&quot;Curtis&quot;</td><td>&quot;Jackson&quot;</td><td>&quot;Chicago&quot;</td><td>&quot;12345&quot;</td></tr><tr><td>&quot;f47ac10b-58cc-4372-a567-0e02b2…</td><td>&quot;15.06.25&quot;</td><td>&quot;1e2b47e6-499e-41c6-91d3-09d12d…</td><td>&quot;Fresh Fruits Co&quot;</td><td>&quot;Wood&quot;</td><td>&quot;[{ &quot;contact_name&quot;:&quot;Curtis&quot;, &quot;c…</td><td>&quot;Leonard Cohen, Ammy Winehouse&quot;</td><td>{&#x27;contact_data&#x27;: &#x27;[{ &quot;contact_name&quot;:&quot;Curtis&quot;, &quot;contact_surname&quot;:&quot;Jackson&quot;, &quot;city&quot;:&quot;Chicago&quot;, &quot;cp&quot;: &quot;12345&quot;}]&#x27;, &#x27;contact_name&#x27;: &#x27;Curtis&#x27;, &#x27;contact_surname&#x27;: &#x27;Jackson&#x27;, &#x27;city&#x27;: &#x27;Chicago&#x27;, &#x27;cp&#x27;: &#x27;12345&#x27;}</td><td>&quot;Curtis&quot;</td><td>&quot;Jackson&quot;</td><td>&quot;Chicago&quot;</td><td>&quot;12345&quot;</td></tr></tbody></table></div>"
      ],
      "text/plain": [
       "shape: (414, 12)\n",
       "┌─────────────┬──────────┬────────────┬────────────┬───┬────────────┬────────────┬─────────┬───────┐\n",
       "│ order_id    ┆ date     ┆ company_id ┆ company_na ┆ … ┆ contact_na ┆ contact_su ┆ city    ┆ cp    │\n",
       "│ ---         ┆ ---      ┆ ---        ┆ me         ┆   ┆ me         ┆ rname      ┆ ---     ┆ ---   │\n",
       "│ str         ┆ str      ┆ str        ┆ ---        ┆   ┆ ---        ┆ ---        ┆ str     ┆ str   │\n",
       "│             ┆          ┆            ┆ str        ┆   ┆ str        ┆ str        ┆         ┆       │\n",
       "╞═════════════╪══════════╪════════════╪════════════╪═══╪════════════╪════════════╪═════════╪═══════╡\n",
       "│ f47ac10b-58 ┆ 29.01.22 ┆ 1e2b47e6-4 ┆ Fresh      ┆ … ┆ Curtis     ┆ Jackson    ┆ Chicago ┆ 12345 │\n",
       "│ cc-4372-a56 ┆          ┆ 99e-41c6-9 ┆ Fruits Co  ┆   ┆            ┆            ┆         ┆       │\n",
       "│ 7-0e02b2…   ┆          ┆ 1d3-09d12d ┆            ┆   ┆            ┆            ┆         ┆       │\n",
       "│             ┆          ┆ …          ┆            ┆   ┆            ┆            ┆         ┆       │\n",
       "│ f47ac10b-58 ┆ 07.11.22 ┆ 27c59f76-5 ┆ Healthy    ┆ … ┆ Curtis     ┆ Jackson    ┆ Chicago ┆ 12345 │\n",
       "│ cc-4372-a56 ┆          ┆ d26-4b82-a ┆ Snacks     ┆   ┆            ┆            ┆         ┆       │\n",
       "│ 7-0e02b2…   ┆          ┆ 89b-59f8df ┆            ┆   ┆            ┆            ┆         ┆       │\n",
       "│             ┆          ┆ …          ┆            ┆   ┆            ┆            ┆         ┆       │\n",
       "│ f47ac10b-58 ┆ 27.03.24 ┆ 9851fa89-7 ┆ Fruit      ┆ … ┆ Curtis     ┆ Jackson    ┆ Chicago ┆ 12345 │\n",
       "│ cc-4372-a56 ┆          ┆ b7a-4ed5-8 ┆ Market Ltd ┆   ┆            ┆            ┆         ┆       │\n",
       "│ 7-0e02b2…   ┆          ┆ 9f7-65c205 ┆            ┆   ┆            ┆            ┆         ┆       │\n",
       "│             ┆          ┆ …          ┆            ┆   ┆            ┆            ┆         ┆       │\n",
       "│ f47ac10b-58 ┆ 17.11.24 ┆ 1e2b47e6-4 ┆ Fresh      ┆ … ┆ Curtis     ┆ Jackson    ┆ Chicago ┆ 12345 │\n",
       "│ cc-4372-a56 ┆          ┆ 99e-41c6-9 ┆ Fruits Co  ┆   ┆            ┆            ┆         ┆       │\n",
       "│ 7-0e02b2…   ┆          ┆ 1d3-09d12d ┆            ┆   ┆            ┆            ┆         ┆       │\n",
       "│             ┆          ┆ …          ┆            ┆   ┆            ┆            ┆         ┆       │\n",
       "│ f47ac10b-58 ┆ 21.03.25 ┆ 27c59f76-5 ┆ Healthy    ┆ … ┆ Curtis     ┆ Jackson    ┆ Chicago ┆ 12345 │\n",
       "│ cc-4372-a56 ┆          ┆ d26-4b82-a ┆ Snacks     ┆   ┆            ┆            ┆         ┆       │\n",
       "│ 7-0e02b2…   ┆          ┆ 89b-59f8df ┆            ┆   ┆            ┆            ┆         ┆       │\n",
       "│             ┆          ┆ …          ┆            ┆   ┆            ┆            ┆         ┆       │\n",
       "│ …           ┆ …        ┆ …          ┆ …          ┆ … ┆ …          ┆ …          ┆ …       ┆ …     │\n",
       "│ f47ac10b-58 ┆ 07.11.22 ┆ 27c59f76-5 ┆ Healthy    ┆ … ┆ Curtis     ┆ Jackson    ┆ Chicago ┆ 12345 │\n",
       "│ cc-4372-a56 ┆          ┆ d26-4b82-a ┆ Snacks     ┆   ┆            ┆            ┆         ┆       │\n",
       "│ 7-0e02b2…   ┆          ┆ 89b-59f8df ┆            ┆   ┆            ┆            ┆         ┆       │\n",
       "│             ┆          ┆ …          ┆            ┆   ┆            ┆            ┆         ┆       │\n",
       "│ f47ac10b-58 ┆ 27.03.24 ┆ 9851fa89-7 ┆ Fruit      ┆ … ┆ Curtis     ┆ Jackson    ┆ Chicago ┆ 12345 │\n",
       "│ cc-4372-a56 ┆          ┆ b7a-4ed5-8 ┆ Market Ltd ┆   ┆            ┆            ┆         ┆       │\n",
       "│ 7-0e02b2…   ┆          ┆ 9f7-65c205 ┆            ┆   ┆            ┆            ┆         ┆       │\n",
       "│             ┆          ┆ …          ┆            ┆   ┆            ┆            ┆         ┆       │\n",
       "│ f47ac10b-58 ┆ 17.11.24 ┆ 1e2b47e6-4 ┆ Fresh      ┆ … ┆ Curtis     ┆ Jackson    ┆ Chicago ┆ 12345 │\n",
       "│ cc-4372-a56 ┆          ┆ 99e-41c6-9 ┆ Fruits Co  ┆   ┆            ┆            ┆         ┆       │\n",
       "│ 7-0e02b2…   ┆          ┆ 1d3-09d12d ┆            ┆   ┆            ┆            ┆         ┆       │\n",
       "│             ┆          ┆ …          ┆            ┆   ┆            ┆            ┆         ┆       │\n",
       "│ f47ac10b-58 ┆ 21.03.25 ┆ 27c59f76-5 ┆ Healthy    ┆ … ┆ Curtis     ┆ Jackson    ┆ Chicago ┆ 12345 │\n",
       "│ cc-4372-a56 ┆          ┆ d26-4b82-a ┆ Snacks     ┆   ┆            ┆            ┆         ┆       │\n",
       "│ 7-0e02b2…   ┆          ┆ 89b-59f8df ┆            ┆   ┆            ┆            ┆         ┆       │\n",
       "│             ┆          ┆ …          ┆            ┆   ┆            ┆            ┆         ┆       │\n",
       "│ f47ac10b-58 ┆ 15.06.25 ┆ 1e2b47e6-4 ┆ Fresh      ┆ … ┆ Curtis     ┆ Jackson    ┆ Chicago ┆ 12345 │\n",
       "│ cc-4372-a56 ┆          ┆ 99e-41c6-9 ┆ Fruits Co  ┆   ┆            ┆            ┆         ┆       │\n",
       "│ 7-0e02b2…   ┆          ┆ 1d3-09d12d ┆            ┆   ┆            ┆            ┆         ┆       │\n",
       "│             ┆          ┆ …          ┆            ┆   ┆            ┆            ┆         ┆       │\n",
       "└─────────────┴──────────┴────────────┴────────────┴───┴────────────┴────────────┴─────────┴───────┘"
      ]
     },
     "execution_count": 30,
     "metadata": {},
     "output_type": "execute_result"
    }
   ],
   "source": [
    "df_combined"
   ]
  },
  {
   "cell_type": "code",
   "execution_count": 97,
   "metadata": {},
   "outputs": [
    {
     "ename": "ValueError",
     "evalue": "must specify `on` OR `left_on` and `right_on`",
     "output_type": "error",
     "traceback": [
      "\u001b[0;31m---------------------------------------------------------------------------\u001b[0m",
      "\u001b[0;31mValueError\u001b[0m                                Traceback (most recent call last)",
      "Cell \u001b[0;32mIn[97], line 5\u001b[0m\n\u001b[1;32m      2\u001b[0m df_normalized \u001b[38;5;241m=\u001b[39m pl\u001b[38;5;241m.\u001b[39mjson_normalize(df_test[\u001b[38;5;124m'\u001b[39m\u001b[38;5;124mnew_col\u001b[39m\u001b[38;5;124m'\u001b[39m])\n\u001b[1;32m      4\u001b[0m \u001b[38;5;66;03m# Step 2: Join the normalized columns back with the original DataFrame\u001b[39;00m\n\u001b[0;32m----> 5\u001b[0m df_combined \u001b[38;5;241m=\u001b[39m \u001b[43mdf_test\u001b[49m\u001b[38;5;241;43m.\u001b[39;49m\u001b[43mjoin\u001b[49m\u001b[43m(\u001b[49m\u001b[43mdf_normalized\u001b[49m\u001b[43m,\u001b[49m\u001b[43m \u001b[49m\u001b[43mhow\u001b[49m\u001b[38;5;241;43m=\u001b[39;49m\u001b[38;5;124;43m\"\u001b[39;49m\u001b[38;5;124;43mright_on\u001b[39;49m\u001b[38;5;124;43m\"\u001b[39;49m\u001b[43m)\u001b[49m\n",
      "File \u001b[0;32m~/.cache/pypoetry/virtualenvs/ifco-Gipka2ZM-py3.12/lib/python3.12/site-packages/polars/dataframe/frame.py:7139\u001b[0m, in \u001b[0;36mDataFrame.join\u001b[0;34m(self, other, on, how, left_on, right_on, suffix, validate, join_nulls, coalesce)\u001b[0m\n\u001b[1;32m   7134\u001b[0m     msg \u001b[38;5;241m=\u001b[39m \u001b[38;5;124mf\u001b[39m\u001b[38;5;124m\"\u001b[39m\u001b[38;5;124mexpected `other` join table to be a DataFrame, got \u001b[39m\u001b[38;5;132;01m{\u001b[39;00m\u001b[38;5;28mtype\u001b[39m(other)\u001b[38;5;241m.\u001b[39m\u001b[38;5;18m__name__\u001b[39m\u001b[38;5;132;01m!r}\u001b[39;00m\u001b[38;5;124m\"\u001b[39m\n\u001b[1;32m   7135\u001b[0m     \u001b[38;5;28;01mraise\u001b[39;00m \u001b[38;5;167;01mTypeError\u001b[39;00m(msg)\n\u001b[1;32m   7137\u001b[0m \u001b[38;5;28;01mreturn\u001b[39;00m (\n\u001b[1;32m   7138\u001b[0m     \u001b[38;5;28;43mself\u001b[39;49m\u001b[38;5;241;43m.\u001b[39;49m\u001b[43mlazy\u001b[49m\u001b[43m(\u001b[49m\u001b[43m)\u001b[49m\n\u001b[0;32m-> 7139\u001b[0m \u001b[43m    \u001b[49m\u001b[38;5;241;43m.\u001b[39;49m\u001b[43mjoin\u001b[49m\u001b[43m(\u001b[49m\n\u001b[1;32m   7140\u001b[0m \u001b[43m        \u001b[49m\u001b[43mother\u001b[49m\u001b[38;5;241;43m=\u001b[39;49m\u001b[43mother\u001b[49m\u001b[38;5;241;43m.\u001b[39;49m\u001b[43mlazy\u001b[49m\u001b[43m(\u001b[49m\u001b[43m)\u001b[49m\u001b[43m,\u001b[49m\n\u001b[1;32m   7141\u001b[0m \u001b[43m        \u001b[49m\u001b[43mleft_on\u001b[49m\u001b[38;5;241;43m=\u001b[39;49m\u001b[43mleft_on\u001b[49m\u001b[43m,\u001b[49m\n\u001b[1;32m   7142\u001b[0m \u001b[43m        \u001b[49m\u001b[43mright_on\u001b[49m\u001b[38;5;241;43m=\u001b[39;49m\u001b[43mright_on\u001b[49m\u001b[43m,\u001b[49m\n\u001b[1;32m   7143\u001b[0m \u001b[43m        \u001b[49m\u001b[43mon\u001b[49m\u001b[38;5;241;43m=\u001b[39;49m\u001b[43mon\u001b[49m\u001b[43m,\u001b[49m\n\u001b[1;32m   7144\u001b[0m \u001b[43m        \u001b[49m\u001b[43mhow\u001b[49m\u001b[38;5;241;43m=\u001b[39;49m\u001b[43mhow\u001b[49m\u001b[43m,\u001b[49m\n\u001b[1;32m   7145\u001b[0m \u001b[43m        \u001b[49m\u001b[43msuffix\u001b[49m\u001b[38;5;241;43m=\u001b[39;49m\u001b[43msuffix\u001b[49m\u001b[43m,\u001b[49m\n\u001b[1;32m   7146\u001b[0m \u001b[43m        \u001b[49m\u001b[43mvalidate\u001b[49m\u001b[38;5;241;43m=\u001b[39;49m\u001b[43mvalidate\u001b[49m\u001b[43m,\u001b[49m\n\u001b[1;32m   7147\u001b[0m \u001b[43m        \u001b[49m\u001b[43mjoin_nulls\u001b[49m\u001b[38;5;241;43m=\u001b[39;49m\u001b[43mjoin_nulls\u001b[49m\u001b[43m,\u001b[49m\n\u001b[1;32m   7148\u001b[0m \u001b[43m        \u001b[49m\u001b[43mcoalesce\u001b[49m\u001b[38;5;241;43m=\u001b[39;49m\u001b[43mcoalesce\u001b[49m\u001b[43m,\u001b[49m\n\u001b[1;32m   7149\u001b[0m \u001b[43m    \u001b[49m\u001b[43m)\u001b[49m\n\u001b[1;32m   7150\u001b[0m     \u001b[38;5;241m.\u001b[39mcollect(_eager\u001b[38;5;241m=\u001b[39m\u001b[38;5;28;01mTrue\u001b[39;00m)\n\u001b[1;32m   7151\u001b[0m )\n",
      "File \u001b[0;32m~/.cache/pypoetry/virtualenvs/ifco-Gipka2ZM-py3.12/lib/python3.12/site-packages/polars/lazyframe/frame.py:4610\u001b[0m, in \u001b[0;36mLazyFrame.join\u001b[0;34m(self, other, on, how, left_on, right_on, suffix, validate, join_nulls, coalesce, allow_parallel, force_parallel)\u001b[0m\n\u001b[1;32m   4608\u001b[0m \u001b[38;5;28;01melse\u001b[39;00m:\n\u001b[1;32m   4609\u001b[0m     msg \u001b[38;5;241m=\u001b[39m \u001b[38;5;124m\"\u001b[39m\u001b[38;5;124mmust specify `on` OR `left_on` and `right_on`\u001b[39m\u001b[38;5;124m\"\u001b[39m\n\u001b[0;32m-> 4610\u001b[0m     \u001b[38;5;28;01mraise\u001b[39;00m \u001b[38;5;167;01mValueError\u001b[39;00m(msg)\n\u001b[1;32m   4612\u001b[0m \u001b[38;5;28;01mreturn\u001b[39;00m \u001b[38;5;28mself\u001b[39m\u001b[38;5;241m.\u001b[39m_from_pyldf(\n\u001b[1;32m   4613\u001b[0m     \u001b[38;5;28mself\u001b[39m\u001b[38;5;241m.\u001b[39m_ldf\u001b[38;5;241m.\u001b[39mjoin(\n\u001b[1;32m   4614\u001b[0m         other\u001b[38;5;241m.\u001b[39m_ldf,\n\u001b[0;32m   (...)\u001b[0m\n\u001b[1;32m   4624\u001b[0m     )\n\u001b[1;32m   4625\u001b[0m )\n",
      "\u001b[0;31mValueError\u001b[0m: must specify `on` OR `left_on` and `right_on`"
     ]
    }
   ],
   "source": [
    "# Step 1: Normalize the 'contact_data' column (which is a dictionary column)\n",
    "df_normalized = pl.json_normalize(df_test['new_col'])\n",
    "\n",
    "# Step 2: Join the normalized columns back with the original DataFrame\n",
    "df_combined = df_test.join(df_normalized, how=\"right_on\")"
   ]
  },
  {
   "cell_type": "code",
   "execution_count": null,
   "metadata": {},
   "outputs": [
    {
     "ename": "AttributeError",
     "evalue": "'Expr' object has no attribute 'json_decode'",
     "output_type": "error",
     "traceback": [
      "\u001b[0;31m---------------------------------------------------------------------------\u001b[0m",
      "\u001b[0;31mAttributeError\u001b[0m                            Traceback (most recent call last)",
      "Cell \u001b[0;32mIn[81], line 1\u001b[0m\n\u001b[0;32m----> 1\u001b[0m df_test\u001b[38;5;241m.\u001b[39mselect(\u001b[43mpl\u001b[49m\u001b[38;5;241;43m.\u001b[39;49m\u001b[43mcol\u001b[49m\u001b[43m(\u001b[49m\u001b[38;5;124;43m'\u001b[39;49m\u001b[38;5;124;43mnew_col\u001b[39;49m\u001b[38;5;124;43m'\u001b[39;49m\u001b[43m)\u001b[49m\u001b[38;5;241;43m.\u001b[39;49m\u001b[43mjson_decode\u001b[49m())\u001b[38;5;241m.\u001b[39munnest(\u001b[38;5;124m'\u001b[39m\u001b[38;5;124mnew_col\u001b[39m\u001b[38;5;124m'\u001b[39m)\n",
      "\u001b[0;31mAttributeError\u001b[0m: 'Expr' object has no attribute 'json_decode'"
     ]
    }
   ],
   "source": [
    "df_test.select(pl.col('new_col')).unnest('new_col')"
   ]
  },
  {
   "cell_type": "code",
   "execution_count": 90,
   "metadata": {},
   "outputs": [
    {
     "data": {
      "text/html": [
       "<div><style>\n",
       ".dataframe > thead > tr,\n",
       ".dataframe > tbody > tr {\n",
       "  text-align: right;\n",
       "  white-space: pre-wrap;\n",
       "}\n",
       "</style>\n",
       "<small>shape: (2, 8)</small><table border=\"1\" class=\"dataframe\"><thead><tr><th>order_id</th><th>date</th><th>company_id</th><th>company_name</th><th>crate_type</th><th>contact_data</th><th>salesowners</th><th>new_col</th></tr><tr><td>str</td><td>str</td><td>str</td><td>str</td><td>str</td><td>str</td><td>str</td><td>object</td></tr></thead><tbody><tr><td>&quot;f47ac10b-58cc-4372-a567-0e02b2…</td><td>&quot;29.01.22&quot;</td><td>&quot;1e2b47e6-499e-41c6-91d3-09d12d…</td><td>&quot;Fresh Fruits Co&quot;</td><td>&quot;Plastic&quot;</td><td>&quot;[{ &quot;contact_name&quot;:&quot;Curtis&quot;, &quot;c…</td><td>&quot;Leonard Cohen, Luke Skywalker,…</td><td>{&#x27;contact_name&#x27;: &#x27;Curtis&#x27;, &#x27;contact_surname&#x27;: &#x27;Jackson&#x27;, &#x27;city&#x27;: &#x27;Chicago&#x27;, &#x27;cp&#x27;: &#x27;12345&#x27;}</td></tr><tr><td>&quot;f47ac10b-58cc-4372-a567-0e02b2…</td><td>&quot;21.02.22&quot;</td><td>&quot;0f05a8f1-2bdf-4be7-8c82-4c9b58…</td><td>&quot;Veggies Inc&quot;</td><td>&quot;Wood&quot;</td><td>&quot;[{ &quot;contact_name&quot;:&quot;Maria&quot;, &quot;co…</td><td>&quot;Luke Skywalker, David Goliat, …</td><td>{&#x27;contact_name&#x27;: &#x27;Maria&#x27;, &#x27;contact_surname&#x27;: &#x27;Theresa&#x27;, &#x27;city&#x27;: &#x27;Calcutta&#x27;, &#x27;cp&#x27;: None}</td></tr></tbody></table></div>"
      ],
      "text/plain": [
       "shape: (2, 8)\n",
       "┌────────────┬──────────┬────────────┬────────────┬────────────┬───────────┬───────────┬───────────┐\n",
       "│ order_id   ┆ date     ┆ company_id ┆ company_na ┆ crate_type ┆ contact_d ┆ salesowne ┆ new_col   │\n",
       "│ ---        ┆ ---      ┆ ---        ┆ me         ┆ ---        ┆ ata       ┆ rs        ┆ ---       │\n",
       "│ str        ┆ str      ┆ str        ┆ ---        ┆ str        ┆ ---       ┆ ---       ┆ object    │\n",
       "│            ┆          ┆            ┆ str        ┆            ┆ str       ┆ str       ┆           │\n",
       "╞════════════╪══════════╪════════════╪════════════╪════════════╪═══════════╪═══════════╪═══════════╡\n",
       "│ f47ac10b-5 ┆ 29.01.22 ┆ 1e2b47e6-4 ┆ Fresh      ┆ Plastic    ┆ [{ \"conta ┆ Leonard   ┆ {'contact │\n",
       "│ 8cc-4372-a ┆          ┆ 99e-41c6-9 ┆ Fruits Co  ┆            ┆ ct_name\": ┆ Cohen,    ┆ _name':   │\n",
       "│ 567-0e02b2 ┆          ┆ 1d3-09d12d ┆            ┆            ┆ \"Curtis\", ┆ Luke Skyw ┆ 'Curtis', │\n",
       "│ …          ┆          ┆ …          ┆            ┆            ┆ \"c…       ┆ alker,…   ┆ 'co…      │\n",
       "│ f47ac10b-5 ┆ 21.02.22 ┆ 0f05a8f1-2 ┆ Veggies    ┆ Wood       ┆ [{ \"conta ┆ Luke Skyw ┆ {'contact │\n",
       "│ 8cc-4372-a ┆          ┆ bdf-4be7-8 ┆ Inc        ┆            ┆ ct_name\": ┆ alker,    ┆ _name':   │\n",
       "│ 567-0e02b2 ┆          ┆ c82-4c9b58 ┆            ┆            ┆ \"Maria\",  ┆ David     ┆ 'Maria',  │\n",
       "│ …          ┆          ┆ …          ┆            ┆            ┆ \"co…      ┆ Goliat, … ┆ 'con…     │\n",
       "└────────────┴──────────┴────────────┴────────────┴────────────┴───────────┴───────────┴───────────┘"
      ]
     },
     "execution_count": 90,
     "metadata": {},
     "output_type": "execute_result"
    }
   ],
   "source": [
    "df_test.head(2)"
   ]
  },
  {
   "cell_type": "code",
   "execution_count": 93,
   "metadata": {},
   "outputs": [
    {
     "data": {
      "text/html": [
       "<div><style>\n",
       ".dataframe > thead > tr,\n",
       ".dataframe > tbody > tr {\n",
       "  text-align: right;\n",
       "  white-space: pre-wrap;\n",
       "}\n",
       "</style>\n",
       "<small>shape: (62, 4)</small><table border=\"1\" class=\"dataframe\"><thead><tr><th>contact_name</th><th>contact_surname</th><th>city</th><th>cp</th></tr><tr><td>str</td><td>str</td><td>str</td><td>str</td></tr></thead><tbody><tr><td>&quot;Curtis&quot;</td><td>&quot;Jackson&quot;</td><td>&quot;Chicago&quot;</td><td>&quot;12345&quot;</td></tr><tr><td>&quot;Maria&quot;</td><td>&quot;Theresa&quot;</td><td>&quot;Calcutta&quot;</td><td>null</td></tr><tr><td>&quot;Para&quot;</td><td>&quot;Cetamol&quot;</td><td>&quot;Frankfurt am Oder&quot;</td><td>&quot;3934&quot;</td></tr><tr><td>null</td><td>null</td><td>null</td><td>null</td></tr><tr><td>null</td><td>null</td><td>null</td><td>null</td></tr><tr><td>&hellip;</td><td>&hellip;</td><td>&hellip;</td><td>&hellip;</td></tr><tr><td>null</td><td>null</td><td>null</td><td>null</td></tr><tr><td>&quot;Jennifer&quot;</td><td>&quot;Lopez&quot;</td><td>&quot;Esplugues de Llobregat&quot;</td><td>null</td></tr><tr><td>null</td><td>null</td><td>null</td><td>null</td></tr><tr><td>null</td><td>null</td><td>null</td><td>null</td></tr><tr><td>&quot;Curtis&quot;</td><td>&quot;Jackson&quot;</td><td>&quot;Chicago&quot;</td><td>&quot;12345&quot;</td></tr></tbody></table></div>"
      ],
      "text/plain": [
       "shape: (62, 4)\n",
       "┌──────────────┬─────────────────┬────────────────────────┬───────┐\n",
       "│ contact_name ┆ contact_surname ┆ city                   ┆ cp    │\n",
       "│ ---          ┆ ---             ┆ ---                    ┆ ---   │\n",
       "│ str          ┆ str             ┆ str                    ┆ str   │\n",
       "╞══════════════╪═════════════════╪════════════════════════╪═══════╡\n",
       "│ Curtis       ┆ Jackson         ┆ Chicago                ┆ 12345 │\n",
       "│ Maria        ┆ Theresa         ┆ Calcutta               ┆ null  │\n",
       "│ Para         ┆ Cetamol         ┆ Frankfurt am Oder      ┆ 3934  │\n",
       "│ null         ┆ null            ┆ null                   ┆ null  │\n",
       "│ null         ┆ null            ┆ null                   ┆ null  │\n",
       "│ …            ┆ …               ┆ …                      ┆ …     │\n",
       "│ null         ┆ null            ┆ null                   ┆ null  │\n",
       "│ Jennifer     ┆ Lopez           ┆ Esplugues de Llobregat ┆ null  │\n",
       "│ null         ┆ null            ┆ null                   ┆ null  │\n",
       "│ null         ┆ null            ┆ null                   ┆ null  │\n",
       "│ Curtis       ┆ Jackson         ┆ Chicago                ┆ 12345 │\n",
       "└──────────────┴─────────────────┴────────────────────────┴───────┘"
      ]
     },
     "execution_count": 93,
     "metadata": {},
     "output_type": "execute_result"
    }
   ],
   "source": [
    "pl.json_normalize(df_test['new_col'])\n"
   ]
  },
  {
   "cell_type": "code",
   "execution_count": 77,
   "metadata": {},
   "outputs": [
    {
     "ename": "ColumnNotFoundError",
     "evalue": "contact_name\n\nResolved plan until failure:\n\n\t---> FAILED HERE RESOLVING 'with_columns' <---\nDF [\"order_id\", \"date\", \"company_id\", \"company_name\"]; PROJECT */8 COLUMNS; SELECTION: None",
     "output_type": "error",
     "traceback": [
      "\u001b[0;31m---------------------------------------------------------------------------\u001b[0m",
      "\u001b[0;31mColumnNotFoundError\u001b[0m                       Traceback (most recent call last)",
      "Cell \u001b[0;32mIn[77], line 1\u001b[0m\n\u001b[0;32m----> 1\u001b[0m df_stg_extracted \u001b[38;5;241m=\u001b[39m \u001b[43mdf_test\u001b[49m\u001b[38;5;241;43m.\u001b[39;49m\u001b[43mwith_columns\u001b[49m\u001b[43m(\u001b[49m\u001b[43m[\u001b[49m\n\u001b[1;32m      2\u001b[0m \u001b[43m    \u001b[49m\u001b[43mpl\u001b[49m\u001b[38;5;241;43m.\u001b[39;49m\u001b[43mcol\u001b[49m\u001b[43m(\u001b[49m\u001b[38;5;124;43m\"\u001b[39;49m\u001b[38;5;124;43mnew_col\u001b[39;49m\u001b[38;5;124;43m\"\u001b[39;49m\u001b[43m)\u001b[49m\u001b[38;5;241;43m.\u001b[39;49m\u001b[43marr\u001b[49m\u001b[38;5;241;43m.\u001b[39;49m\u001b[43mget\u001b[49m\u001b[43m(\u001b[49m\u001b[38;5;124;43m\"\u001b[39;49m\u001b[38;5;124;43mcontact_name\u001b[39;49m\u001b[38;5;124;43m\"\u001b[39;49m\u001b[43m)\u001b[49m\u001b[38;5;241;43m.\u001b[39;49m\u001b[43malias\u001b[49m\u001b[43m(\u001b[49m\u001b[38;5;124;43m\"\u001b[39;49m\u001b[38;5;124;43mcontact_name\u001b[39;49m\u001b[38;5;124;43m\"\u001b[39;49m\u001b[43m)\u001b[49m\u001b[43m,\u001b[49m\n\u001b[1;32m      3\u001b[0m \u001b[43m    \u001b[49m\u001b[43mpl\u001b[49m\u001b[38;5;241;43m.\u001b[39;49m\u001b[43mcol\u001b[49m\u001b[43m(\u001b[49m\u001b[38;5;124;43m\"\u001b[39;49m\u001b[38;5;124;43mnew_col\u001b[39;49m\u001b[38;5;124;43m\"\u001b[39;49m\u001b[43m)\u001b[49m\u001b[38;5;241;43m.\u001b[39;49m\u001b[43marr\u001b[49m\u001b[38;5;241;43m.\u001b[39;49m\u001b[43mget\u001b[49m\u001b[43m(\u001b[49m\u001b[38;5;124;43m\"\u001b[39;49m\u001b[38;5;124;43mcontact_surname\u001b[39;49m\u001b[38;5;124;43m\"\u001b[39;49m\u001b[43m)\u001b[49m\u001b[38;5;241;43m.\u001b[39;49m\u001b[43malias\u001b[49m\u001b[43m(\u001b[49m\u001b[38;5;124;43m\"\u001b[39;49m\u001b[38;5;124;43mcontact_surname\u001b[39;49m\u001b[38;5;124;43m\"\u001b[39;49m\u001b[43m)\u001b[49m\u001b[43m,\u001b[49m\n\u001b[1;32m      4\u001b[0m \u001b[43m    \u001b[49m\u001b[43mpl\u001b[49m\u001b[38;5;241;43m.\u001b[39;49m\u001b[43mcol\u001b[49m\u001b[43m(\u001b[49m\u001b[38;5;124;43m\"\u001b[39;49m\u001b[38;5;124;43mnew_col\u001b[39;49m\u001b[38;5;124;43m\"\u001b[39;49m\u001b[43m)\u001b[49m\u001b[38;5;241;43m.\u001b[39;49m\u001b[43marr\u001b[49m\u001b[38;5;241;43m.\u001b[39;49m\u001b[43mget\u001b[49m\u001b[43m(\u001b[49m\u001b[38;5;124;43m\"\u001b[39;49m\u001b[38;5;124;43mcity\u001b[39;49m\u001b[38;5;124;43m\"\u001b[39;49m\u001b[43m)\u001b[49m\u001b[38;5;241;43m.\u001b[39;49m\u001b[43malias\u001b[49m\u001b[43m(\u001b[49m\u001b[38;5;124;43m\"\u001b[39;49m\u001b[38;5;124;43mcity\u001b[39;49m\u001b[38;5;124;43m\"\u001b[39;49m\u001b[43m)\u001b[49m\u001b[43m,\u001b[49m\n\u001b[1;32m      5\u001b[0m \u001b[43m    \u001b[49m\u001b[43mpl\u001b[49m\u001b[38;5;241;43m.\u001b[39;49m\u001b[43mcol\u001b[49m\u001b[43m(\u001b[49m\u001b[38;5;124;43m\"\u001b[39;49m\u001b[38;5;124;43mnew_col\u001b[39;49m\u001b[38;5;124;43m\"\u001b[39;49m\u001b[43m)\u001b[49m\u001b[38;5;241;43m.\u001b[39;49m\u001b[43marr\u001b[49m\u001b[38;5;241;43m.\u001b[39;49m\u001b[43mget\u001b[49m\u001b[43m(\u001b[49m\u001b[38;5;124;43m\"\u001b[39;49m\u001b[38;5;124;43mcp\u001b[39;49m\u001b[38;5;124;43m\"\u001b[39;49m\u001b[43m)\u001b[49m\u001b[38;5;241;43m.\u001b[39;49m\u001b[43malias\u001b[49m\u001b[43m(\u001b[49m\u001b[38;5;124;43m\"\u001b[39;49m\u001b[38;5;124;43mcp\u001b[39;49m\u001b[38;5;124;43m\"\u001b[39;49m\u001b[43m)\u001b[49m\n\u001b[1;32m      6\u001b[0m \u001b[43m]\u001b[49m\u001b[43m)\u001b[49m\n",
      "File \u001b[0;32m~/.cache/pypoetry/virtualenvs/ifco-Gipka2ZM-py3.12/lib/python3.12/site-packages/polars/dataframe/frame.py:9194\u001b[0m, in \u001b[0;36mDataFrame.with_columns\u001b[0;34m(self, *exprs, **named_exprs)\u001b[0m\n\u001b[1;32m   9048\u001b[0m \u001b[38;5;28;01mdef\u001b[39;00m \u001b[38;5;21mwith_columns\u001b[39m(\n\u001b[1;32m   9049\u001b[0m     \u001b[38;5;28mself\u001b[39m,\n\u001b[1;32m   9050\u001b[0m     \u001b[38;5;241m*\u001b[39mexprs: IntoExpr \u001b[38;5;241m|\u001b[39m Iterable[IntoExpr],\n\u001b[1;32m   9051\u001b[0m     \u001b[38;5;241m*\u001b[39m\u001b[38;5;241m*\u001b[39mnamed_exprs: IntoExpr,\n\u001b[1;32m   9052\u001b[0m ) \u001b[38;5;241m-\u001b[39m\u001b[38;5;241m>\u001b[39m DataFrame:\n\u001b[1;32m   9053\u001b[0m \u001b[38;5;250m    \u001b[39m\u001b[38;5;124;03m\"\"\"\u001b[39;00m\n\u001b[1;32m   9054\u001b[0m \u001b[38;5;124;03m    Add columns to this DataFrame.\u001b[39;00m\n\u001b[1;32m   9055\u001b[0m \n\u001b[0;32m   (...)\u001b[0m\n\u001b[1;32m   9192\u001b[0m \u001b[38;5;124;03m    └─────┴──────┴─────────────┘\u001b[39;00m\n\u001b[1;32m   9193\u001b[0m \u001b[38;5;124;03m    \"\"\"\u001b[39;00m\n\u001b[0;32m-> 9194\u001b[0m     \u001b[38;5;28;01mreturn\u001b[39;00m \u001b[38;5;28;43mself\u001b[39;49m\u001b[38;5;241;43m.\u001b[39;49m\u001b[43mlazy\u001b[49m\u001b[43m(\u001b[49m\u001b[43m)\u001b[49m\u001b[38;5;241;43m.\u001b[39;49m\u001b[43mwith_columns\u001b[49m\u001b[43m(\u001b[49m\u001b[38;5;241;43m*\u001b[39;49m\u001b[43mexprs\u001b[49m\u001b[43m,\u001b[49m\u001b[43m \u001b[49m\u001b[38;5;241;43m*\u001b[39;49m\u001b[38;5;241;43m*\u001b[39;49m\u001b[43mnamed_exprs\u001b[49m\u001b[43m)\u001b[49m\u001b[38;5;241;43m.\u001b[39;49m\u001b[43mcollect\u001b[49m\u001b[43m(\u001b[49m\u001b[43m_eager\u001b[49m\u001b[38;5;241;43m=\u001b[39;49m\u001b[38;5;28;43;01mTrue\u001b[39;49;00m\u001b[43m)\u001b[49m\n",
      "File \u001b[0;32m~/.cache/pypoetry/virtualenvs/ifco-Gipka2ZM-py3.12/lib/python3.12/site-packages/polars/lazyframe/frame.py:2055\u001b[0m, in \u001b[0;36mLazyFrame.collect\u001b[0;34m(self, type_coercion, predicate_pushdown, projection_pushdown, simplify_expression, slice_pushdown, comm_subplan_elim, comm_subexpr_elim, cluster_with_columns, collapse_joins, no_optimization, streaming, engine, background, _eager, **_kwargs)\u001b[0m\n\u001b[1;32m   2053\u001b[0m \u001b[38;5;66;03m# Only for testing purposes\u001b[39;00m\n\u001b[1;32m   2054\u001b[0m callback \u001b[38;5;241m=\u001b[39m _kwargs\u001b[38;5;241m.\u001b[39mget(\u001b[38;5;124m\"\u001b[39m\u001b[38;5;124mpost_opt_callback\u001b[39m\u001b[38;5;124m\"\u001b[39m, callback)\n\u001b[0;32m-> 2055\u001b[0m \u001b[38;5;28;01mreturn\u001b[39;00m wrap_df(\u001b[43mldf\u001b[49m\u001b[38;5;241;43m.\u001b[39;49m\u001b[43mcollect\u001b[49m\u001b[43m(\u001b[49m\u001b[43mcallback\u001b[49m\u001b[43m)\u001b[49m)\n",
      "\u001b[0;31mColumnNotFoundError\u001b[0m: contact_name\n\nResolved plan until failure:\n\n\t---> FAILED HERE RESOLVING 'with_columns' <---\nDF [\"order_id\", \"date\", \"company_id\", \"company_name\"]; PROJECT */8 COLUMNS; SELECTION: None"
     ]
    }
   ],
   "source": [
    "\n",
    "df_stg_extracted = df_test.with_columns([\n",
    "    pl.col(\"new_col\").arr.get(\"contact_name\").alias(\"contact_name\"),\n",
    "    pl.col(\"new_col\").arr.get(\"contact_surname\").alias(\"contact_surname\"),\n",
    "    pl.col(\"new_col\").arr.get(\"city\").alias(\"city\"),\n",
    "    pl.col(\"new_col\").arr.get(\"cp\").alias(\"cp\")\n",
    "])"
   ]
  },
  {
   "cell_type": "code",
   "execution_count": null,
   "metadata": {},
   "outputs": [],
   "source": [
    "orders_id_per_salesowners = orders_stable_schema.select([\"order_id\", \"salesowners\"])\n",
    "\n"
   ]
  },
  {
   "cell_type": "code",
   "execution_count": 23,
   "metadata": {},
   "outputs": [],
   "source": [
    "# Split the 'names' column on ', ' and then explode it\n",
    "df_expanded = (\n",
    "    orders_id_per_salesowners.with_columns(pl.col(\"salesowners\").str.split(\",\").alias(\"names\"))  # Split each entry by comma and space\n",
    "      .explode(\"names\")  # Expand each list into separate rows\n",
    ")"
   ]
  },
  {
   "cell_type": "code",
   "execution_count": 26,
   "metadata": {},
   "outputs": [],
   "source": [
    "orders_id_per_salesowners_1 = orders_id_per_salesowners.unique()\n"
   ]
  },
  {
   "cell_type": "code",
   "execution_count": 25,
   "metadata": {},
   "outputs": [
    {
     "data": {
      "text/html": [
       "<div><style>\n",
       ".dataframe > thead > tr,\n",
       ".dataframe > tbody > tr {\n",
       "  text-align: right;\n",
       "  white-space: pre-wrap;\n",
       "}\n",
       "</style>\n",
       "<small>shape: (153, 2)</small><table border=\"1\" class=\"dataframe\"><thead><tr><th>order_id</th><th>salesowners</th></tr><tr><td>str</td><td>str</td></tr></thead><tbody><tr><td>&quot;f47ac10b-58cc-4372-a567-0e02b2…</td><td>&quot;Leonard Cohen&quot;</td></tr><tr><td>&quot;f47ac10b-58cc-4372-a567-0e02b2…</td><td>&quot; Luke Skywalker&quot;</td></tr><tr><td>&quot;f47ac10b-58cc-4372-a567-0e02b2…</td><td>&quot; Ammy Winehouse&quot;</td></tr><tr><td>&quot;f47ac10b-58cc-4372-a567-0e02b2…</td><td>&quot;Luke Skywalker&quot;</td></tr><tr><td>&quot;f47ac10b-58cc-4372-a567-0e02b2…</td><td>&quot; David Goliat&quot;</td></tr><tr><td>&hellip;</td><td>&hellip;</td></tr><tr><td>&quot;f47ac10b-58cc-4372-a567-0e02b2…</td><td>&quot; Leonard Cohen&quot;</td></tr><tr><td>&quot;f47ac10b-58cc-4372-a567-0e02b2…</td><td>&quot;Luke Skywalker&quot;</td></tr><tr><td>&quot;f47ac10b-58cc-4372-a567-0e02b2…</td><td>&quot; Chris Pratt&quot;</td></tr><tr><td>&quot;f47ac10b-58cc-4372-a567-0e02b2…</td><td>&quot;Leonard Cohen&quot;</td></tr><tr><td>&quot;f47ac10b-58cc-4372-a567-0e02b2…</td><td>&quot; Ammy Winehouse&quot;</td></tr></tbody></table></div>"
      ],
      "text/plain": [
       "shape: (153, 2)\n",
       "┌─────────────────────────────────┬─────────────────┐\n",
       "│ order_id                        ┆ salesowners     │\n",
       "│ ---                             ┆ ---             │\n",
       "│ str                             ┆ str             │\n",
       "╞═════════════════════════════════╪═════════════════╡\n",
       "│ f47ac10b-58cc-4372-a567-0e02b2… ┆ Leonard Cohen   │\n",
       "│ f47ac10b-58cc-4372-a567-0e02b2… ┆  Luke Skywalker │\n",
       "│ f47ac10b-58cc-4372-a567-0e02b2… ┆  Ammy Winehouse │\n",
       "│ f47ac10b-58cc-4372-a567-0e02b2… ┆ Luke Skywalker  │\n",
       "│ f47ac10b-58cc-4372-a567-0e02b2… ┆  David Goliat   │\n",
       "│ …                               ┆ …               │\n",
       "│ f47ac10b-58cc-4372-a567-0e02b2… ┆  Leonard Cohen  │\n",
       "│ f47ac10b-58cc-4372-a567-0e02b2… ┆ Luke Skywalker  │\n",
       "│ f47ac10b-58cc-4372-a567-0e02b2… ┆  Chris Pratt    │\n",
       "│ f47ac10b-58cc-4372-a567-0e02b2… ┆ Leonard Cohen   │\n",
       "│ f47ac10b-58cc-4372-a567-0e02b2… ┆  Ammy Winehouse │\n",
       "└─────────────────────────────────┴─────────────────┘"
      ]
     },
     "execution_count": 25,
     "metadata": {},
     "output_type": "execute_result"
    }
   ],
   "source": [
    "orders_id_per_salesowners = orders_stable_schema.select([\"order_id\", \"salesowners\"])\n",
    "\n",
    "# Split the 'names' column on ', ' and then explode it\n",
    "orders_id_per_salesowners = (\n",
    "    orders_id_per_salesowners.with_columns(pl.col(\"salesowners\").str.split(\",\").alias(\"names\"))  # Split each entry by comma and space\n",
    "      .explode(\"names\")  # Expand each list into separate rows\n",
    ")\n",
    "\n",
    "orders_id_per_salesowners = orders_id_per_salesowners.drop(\"salesowners\")\n",
    "\n",
    "orders_id_per_salesowners.rename({\"names\": \"salesowners\"})\n"
   ]
  }
 ],
 "metadata": {
  "kernelspec": {
   "display_name": "ifco_test",
   "language": "python",
   "name": "ifco_test"
  },
  "language_info": {
   "codemirror_mode": {
    "name": "ipython",
    "version": 3
   },
   "file_extension": ".py",
   "mimetype": "text/x-python",
   "name": "python",
   "nbconvert_exporter": "python",
   "pygments_lexer": "ipython3",
   "version": "3.12.1"
  }
 },
 "nbformat": 4,
 "nbformat_minor": 2
}
